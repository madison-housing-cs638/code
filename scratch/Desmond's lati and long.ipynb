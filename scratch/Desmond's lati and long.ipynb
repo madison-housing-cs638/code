{
 "cells": [
  {
   "cell_type": "code",
   "execution_count": 14,
   "metadata": {},
   "outputs": [],
   "source": [
    "from  geopy.geocoders import Nominatim\n",
    "import pandas as pd\n",
    "import os\n",
    "import sys\n",
    "\n",
    "\n",
    "COMMON_DIR = os.path.join(os.pardir, 'common')\n",
    "sys.path.insert(1, COMMON_DIR)\n",
    "import data_retreiver\n"
   ]
  },
  {
   "cell_type": "code",
   "execution_count": 16,
   "metadata": {},
   "outputs": [
    {
     "name": "stderr",
     "output_type": "stream",
     "text": [
      "C:\\Users\\Desmond\\Anaconda3\\lib\\site-packages\\urllib3\\connectionpool.py:847: InsecureRequestWarning: Unverified HTTPS request is being made. Adding certificate verification is strongly advised. See: https://urllib3.readthedocs.io/en/latest/advanced-usage.html#ssl-warnings\n",
      "  InsecureRequestWarning)\n",
      "C:\\Users\\Desmond\\Anaconda3\\lib\\site-packages\\urllib3\\connectionpool.py:847: InsecureRequestWarning: Unverified HTTPS request is being made. Adding certificate verification is strongly advised. See: https://urllib3.readthedocs.io/en/latest/advanced-usage.html#ssl-warnings\n",
      "  InsecureRequestWarning)\n",
      "C:\\Users\\Desmond\\Anaconda3\\lib\\site-packages\\urllib3\\connectionpool.py:847: InsecureRequestWarning: Unverified HTTPS request is being made. Adding certificate verification is strongly advised. See: https://urllib3.readthedocs.io/en/latest/advanced-usage.html#ssl-warnings\n",
      "  InsecureRequestWarning)\n",
      "C:\\Users\\Desmond\\Anaconda3\\lib\\site-packages\\urllib3\\connectionpool.py:847: InsecureRequestWarning: Unverified HTTPS request is being made. Adding certificate verification is strongly advised. See: https://urllib3.readthedocs.io/en/latest/advanced-usage.html#ssl-warnings\n",
      "  InsecureRequestWarning)\n"
     ]
    }
   ],
   "source": [
    "data_retreiver.download_datasets()"
   ]
  },
  {
   "cell_type": "code",
   "execution_count": 18,
   "metadata": {},
   "outputs": [
    {
     "data": {
      "text/html": [
       "<div>\n",
       "<style scoped>\n",
       "    .dataframe tbody tr th:only-of-type {\n",
       "        vertical-align: middle;\n",
       "    }\n",
       "\n",
       "    .dataframe tbody tr th {\n",
       "        vertical-align: top;\n",
       "    }\n",
       "\n",
       "    .dataframe thead th {\n",
       "        text-align: right;\n",
       "    }\n",
       "</style>\n",
       "<table border=\"1\" class=\"dataframe\">\n",
       "  <thead>\n",
       "    <tr style=\"text-align: right;\">\n",
       "      <th></th>\n",
       "      <th>Parcel</th>\n",
       "      <th>Owners</th>\n",
       "    </tr>\n",
       "  </thead>\n",
       "  <tbody>\n",
       "    <tr>\n",
       "      <td>0</td>\n",
       "      <td>0</td>\n",
       "      <td>Tyler</td>\n",
       "    </tr>\n",
       "    <tr>\n",
       "      <td>1</td>\n",
       "      <td>60802307997</td>\n",
       "      <td>DOBRICK, ROGER H  &amp; MARCIA M DOBRICK</td>\n",
       "    </tr>\n",
       "    <tr>\n",
       "      <td>2</td>\n",
       "      <td>70835124359</td>\n",
       "      <td>LENNON, BRIDGET  DANIELLE &amp; DECLAN LENNON</td>\n",
       "    </tr>\n",
       "    <tr>\n",
       "      <td>3</td>\n",
       "      <td>60802112023</td>\n",
       "      <td>DEGENHARDT, DAVID &amp; LINDA</td>\n",
       "    </tr>\n",
       "    <tr>\n",
       "      <td>4</td>\n",
       "      <td>70813307183</td>\n",
       "      <td>BORSODI, JEFFREY ROBERT  &amp; KATHLEEN ANN METZGER</td>\n",
       "    </tr>\n",
       "    <tr>\n",
       "      <td>...</td>\n",
       "      <td>...</td>\n",
       "      <td>...</td>\n",
       "    </tr>\n",
       "    <tr>\n",
       "      <td>80062</td>\n",
       "      <td>81028119320</td>\n",
       "      <td>MORENO, MITCHAEL M</td>\n",
       "    </tr>\n",
       "    <tr>\n",
       "      <td>80063</td>\n",
       "      <td>70816324019</td>\n",
       "      <td>LONSDORF, DANIEL W</td>\n",
       "    </tr>\n",
       "    <tr>\n",
       "      <td>80064</td>\n",
       "      <td>80924427043</td>\n",
       "      <td>SVOBODA, KAY E</td>\n",
       "    </tr>\n",
       "    <tr>\n",
       "      <td>80065</td>\n",
       "      <td>70833119154</td>\n",
       "      <td>HOLLEY DEVELOPMENT LLC  ATTN PINEHILL FARM HMOWNR</td>\n",
       "    </tr>\n",
       "    <tr>\n",
       "      <td>80066</td>\n",
       "      <td>70923413987</td>\n",
       "      <td>BANASZAK TRUST, GABRIELE</td>\n",
       "    </tr>\n",
       "  </tbody>\n",
       "</table>\n",
       "<p>80067 rows × 2 columns</p>\n",
       "</div>"
      ],
      "text/plain": [
       "            Parcel                                             Owners\n",
       "0                0                                              Tyler\n",
       "1      60802307997               DOBRICK, ROGER H  & MARCIA M DOBRICK\n",
       "2      70835124359          LENNON, BRIDGET  DANIELLE & DECLAN LENNON\n",
       "3      60802112023                          DEGENHARDT, DAVID & LINDA\n",
       "4      70813307183    BORSODI, JEFFREY ROBERT  & KATHLEEN ANN METZGER\n",
       "...            ...                                                ...\n",
       "80062  81028119320                                 MORENO, MITCHAEL M\n",
       "80063  70816324019                                 LONSDORF, DANIEL W\n",
       "80064  80924427043                                     SVOBODA, KAY E\n",
       "80065  70833119154  HOLLEY DEVELOPMENT LLC  ATTN PINEHILL FARM HMOWNR\n",
       "80066  70923413987                           BANASZAK TRUST, GABRIELE\n",
       "\n",
       "[80067 rows x 2 columns]"
      ]
     },
     "execution_count": 18,
     "metadata": {},
     "output_type": "execute_result"
    }
   ],
   "source": [
    "(assessments, names) = data_retreiver.load_csv_datasets(\"all_parcel_raw\", \"all_parcel_names\")\n",
    "names"
   ]
  },
  {
   "cell_type": "code",
   "execution_count": 7,
   "metadata": {},
   "outputs": [
    {
     "name": "stdout",
     "output_type": "stream",
     "text": [
      "['1596 Union Ave, Union, NJ 07083', '1500 Stuyvesant Ave, Union, NJ 07083', '747 NJ-28, Bridgewater Township, NJ 08807', '121 Metro Terrace']\n"
     ]
    }
   ],
   "source": [
    "address = ['1596 Union Ave, Union, NJ 07083',\n",
    "        '1500 Stuyvesant Ave, Union, NJ 07083',\n",
    "        '747 NJ-28, Bridgewater Township, NJ 08807',\n",
    "        '121 Metro Terrace']\n",
    "\n",
    "df = pd.DataFrame(address, columns=['Street'])\n",
    "df\n",
    "empty_df =  pd.DataFrame([], columns=['latitude', 'longitude'])\n",
    "\n",
    "print(address)"
   ]
  },
  {
   "cell_type": "code",
   "execution_count": 8,
   "metadata": {},
   "outputs": [],
   "source": [
    "from geopy.geocoders import Nominatim\n",
    "geolocator = Nominatim(user_agent= \"andriod\")\n",
    "\n",
    "size = df.size\n",
    "\n",
    "for i in range(size):\n",
    "#address = \"320 Conant St, Hillside, NJ 07205\"\n",
    "  location = geolocator.geocode(address[i])\n",
    "  empty_df = empty_df.append({'latitude' : location.latitude , 'longitude' : location.longitude}, ignore_index=True)\n"
   ]
  },
  {
   "cell_type": "code",
   "execution_count": 9,
   "metadata": {},
   "outputs": [
    {
     "data": {
      "text/html": [
       "<div>\n",
       "<style scoped>\n",
       "    .dataframe tbody tr th:only-of-type {\n",
       "        vertical-align: middle;\n",
       "    }\n",
       "\n",
       "    .dataframe tbody tr th {\n",
       "        vertical-align: top;\n",
       "    }\n",
       "\n",
       "    .dataframe thead th {\n",
       "        text-align: right;\n",
       "    }\n",
       "</style>\n",
       "<table border=\"1\" class=\"dataframe\">\n",
       "  <thead>\n",
       "    <tr style=\"text-align: right;\">\n",
       "      <th></th>\n",
       "      <th>latitude</th>\n",
       "      <th>longitude</th>\n",
       "    </tr>\n",
       "  </thead>\n",
       "  <tbody>\n",
       "    <tr>\n",
       "      <td>0</td>\n",
       "      <td>40.704690</td>\n",
       "      <td>-74.250602</td>\n",
       "    </tr>\n",
       "    <tr>\n",
       "      <td>1</td>\n",
       "      <td>40.706127</td>\n",
       "      <td>-74.260760</td>\n",
       "    </tr>\n",
       "    <tr>\n",
       "      <td>2</td>\n",
       "      <td>40.579700</td>\n",
       "      <td>-74.633590</td>\n",
       "    </tr>\n",
       "    <tr>\n",
       "      <td>3</td>\n",
       "      <td>43.100770</td>\n",
       "      <td>-89.269457</td>\n",
       "    </tr>\n",
       "  </tbody>\n",
       "</table>\n",
       "</div>"
      ],
      "text/plain": [
       "    latitude  longitude\n",
       "0  40.704690 -74.250602\n",
       "1  40.706127 -74.260760\n",
       "2  40.579700 -74.633590\n",
       "3  43.100770 -89.269457"
      ]
     },
     "execution_count": 9,
     "metadata": {},
     "output_type": "execute_result"
    }
   ],
   "source": [
    "empty_df"
   ]
  }
 ],
 "metadata": {
  "kernelspec": {
   "display_name": "Python 3",
   "language": "python",
   "name": "python3"
  },
  "language_info": {
   "codemirror_mode": {
    "name": "ipython",
    "version": 3
   },
   "file_extension": ".py",
   "mimetype": "text/x-python",
   "name": "python",
   "nbconvert_exporter": "python",
   "pygments_lexer": "ipython3",
   "version": "3.7.4"
  }
 },
 "nbformat": 4,
 "nbformat_minor": 2
}
