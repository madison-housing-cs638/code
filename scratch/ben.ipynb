{
 "metadata": {
  "language_info": {
   "codemirror_mode": {
    "name": "ipython",
    "version": 3
   },
   "file_extension": ".py",
   "mimetype": "text/x-python",
   "name": "python",
   "nbconvert_exporter": "python",
   "pygments_lexer": "ipython3",
   "version": "3.8.2-final"
  },
  "orig_nbformat": 2,
  "kernelspec": {
   "name": "Python 3.8.2 64-bit ('housing': conda)",
   "display_name": "Python 3.8.2 64-bit ('housing': conda)",
   "metadata": {
    "interpreter": {
     "hash": "25fcd188946dac88c9eb1e405eda02affa4aeb7fb16dc0201f675caa1355facd"
    }
   }
  }
 },
 "nbformat": 4,
 "nbformat_minor": 2,
 "cells": [
  {
   "cell_type": "code",
   "execution_count": 2,
   "metadata": {
    "tags": []
   },
   "outputs": [
    {
     "output_type": "stream",
     "name": "stdout",
     "text": [
      "['DATASETS', 'DATA_PATH', '__builtins__', '__cached__', '__doc__', '__file__', '__loader__', '__name__', '__package__', '__spec__', 'download_datasets', 'download_file', 'load_csv_datasets', 'os', 'pd', 'urllib3']\n"
     ]
    }
   ],
   "source": [
    "import random\n",
    "import os\n",
    "import urllib3\n",
    "import pandas as pd\n",
    "from pandas import Series\n",
    "import geopandas as gpd\n",
    "from geopy import distance\n",
    "import matplotlib.pyplot as plt\n",
    "import numpy as np\n",
    "import seaborn as sns\n",
    "import imageio\n",
    "from matplotlib.lines import Line2D\n",
    "\n",
    "COMMON_DIR = os.path.join(os.pardir, 'common')\n",
    "sys.path.insert(1, COMMON_DIR)\n",
    "\n",
    "import data_retreiver\n",
    "import time_adjusted_price as money\n",
    "print(dir(data_retreiver))\n",
    "from datetime import date"
   ]
  },
  {
   "cell_type": "code",
   "execution_count": 2,
   "metadata": {},
   "outputs": [],
   "source": [
    "data_retreiver.download_datasets()"
   ]
  },
  {
   "cell_type": "code",
   "execution_count": 16,
   "metadata": {
    "tags": []
   },
   "outputs": [],
   "source": [
    "(all_sales, fam_core) = data_retreiver.load_csv_datasets(\"all_parcel_sales\", \"single_family_core\")\n",
    "fam_ids = set(fam_core.index.values)\n",
    "\n",
    "def yearFromDateString(datestr):\n",
    "    d = date.fromisoformat(datestr)\n",
    "    return d.year\n",
    "\n",
    "\n",
    "all_sales[\"Year\"] = all_sales[\"Date\"].apply(yearFromDateString)\n",
    "\n",
    "all_sales[\"Price_Inflated\"] = all_sales.apply(\n",
    "    lambda row: money.inflate(row.Price, row.Year),\n",
    "    axis = 1\n",
    ")\n",
    "\n",
    "fam_sales = all_sales[all_sales.index.isin(fam_ids)]\n",
    "#fam_sales = fam_sales[fam_sales[\"Price\"] > 0.0]\n"
   ]
  },
  {
   "source": [
    "sum(fam_sales_nonzero[\"Price_Inflated\"].isna())"
   ],
   "cell_type": "code",
   "metadata": {},
   "execution_count": 17,
   "outputs": [
    {
     "output_type": "execute_result",
     "data": {
      "text/plain": [
       "0"
      ]
     },
     "metadata": {},
     "execution_count": 17
    }
   ]
  },
  {
   "cell_type": "code",
   "execution_count": 18,
   "metadata": {
    "tags": []
   },
   "outputs": [],
   "source": [
    "fam_sales_nonzero = fam_sales[fam_sales[\"Price\"] > 0.0]\n",
    "all_sales_years = sorted(list(fam_sales_nonzero[\"Year\"].value_counts().index))\n"
   ]
  },
  {
   "cell_type": "code",
   "execution_count": 20,
   "metadata": {},
   "outputs": [
    {
     "output_type": "execute_result",
     "data": {
      "text/plain": [
       "     Total Sales Median_Price Mean_Price Price_STD Top2Percent  \\\n",
       "Year                                                             \n",
       "1900          10        54300      61233     44728      140712   \n",
       "1911          12            1          1         0           1   \n",
       "1912           1            1          1         0           1   \n",
       "1914           1            1          1         0           1   \n",
       "1915           1         1400       1400         0        1400   \n",
       "...          ...          ...        ...       ...         ...   \n",
       "2016        3257       240000     298935    321634      713380   \n",
       "2017        3376       252500     283108    150587      650000   \n",
       "2018        3196       272000     301040    131844      645000   \n",
       "2019        3076       285000     330194    266918      745625   \n",
       "2020        2171       306000     334240    139825      733099   \n",
       "\n",
       "     Median_Price_Inflated Mean_Price_Inflated Price_STD_Inflated  \\\n",
       "Year                                                                \n",
       "1900               1456869             1642892            1200069   \n",
       "1911                    27                  27                  0   \n",
       "1912                    26                  26                  0   \n",
       "1914                    25                  25                  0   \n",
       "1915                 36022               36022                  0   \n",
       "...                    ...                 ...                ...   \n",
       "2016                259200              322850             347365   \n",
       "2017                267650              300095             159622   \n",
       "2018                282880              313082             137118   \n",
       "2019                290700              336798             272257   \n",
       "2020                306000              334240             139825   \n",
       "\n",
       "     Top2Percent_Inflated  \n",
       "Year                       \n",
       "1900              3775306  \n",
       "1911                   27  \n",
       "1912                   26  \n",
       "1914                   25  \n",
       "1915                36022  \n",
       "...                   ...  \n",
       "2016               770450  \n",
       "2017               689000  \n",
       "2018               670800  \n",
       "2019               760537  \n",
       "2020               733099  \n",
       "\n",
       "[92 rows x 9 columns]"
      ],
      "text/html": "<div>\n<style scoped>\n    .dataframe tbody tr th:only-of-type {\n        vertical-align: middle;\n    }\n\n    .dataframe tbody tr th {\n        vertical-align: top;\n    }\n\n    .dataframe thead th {\n        text-align: right;\n    }\n</style>\n<table border=\"1\" class=\"dataframe\">\n  <thead>\n    <tr style=\"text-align: right;\">\n      <th></th>\n      <th>Total Sales</th>\n      <th>Median_Price</th>\n      <th>Mean_Price</th>\n      <th>Price_STD</th>\n      <th>Top2Percent</th>\n      <th>Median_Price_Inflated</th>\n      <th>Mean_Price_Inflated</th>\n      <th>Price_STD_Inflated</th>\n      <th>Top2Percent_Inflated</th>\n    </tr>\n    <tr>\n      <th>Year</th>\n      <th></th>\n      <th></th>\n      <th></th>\n      <th></th>\n      <th></th>\n      <th></th>\n      <th></th>\n      <th></th>\n      <th></th>\n    </tr>\n  </thead>\n  <tbody>\n    <tr>\n      <th>1900</th>\n      <td>10</td>\n      <td>54300</td>\n      <td>61233</td>\n      <td>44728</td>\n      <td>140712</td>\n      <td>1456869</td>\n      <td>1642892</td>\n      <td>1200069</td>\n      <td>3775306</td>\n    </tr>\n    <tr>\n      <th>1911</th>\n      <td>12</td>\n      <td>1</td>\n      <td>1</td>\n      <td>0</td>\n      <td>1</td>\n      <td>27</td>\n      <td>27</td>\n      <td>0</td>\n      <td>27</td>\n    </tr>\n    <tr>\n      <th>1912</th>\n      <td>1</td>\n      <td>1</td>\n      <td>1</td>\n      <td>0</td>\n      <td>1</td>\n      <td>26</td>\n      <td>26</td>\n      <td>0</td>\n      <td>26</td>\n    </tr>\n    <tr>\n      <th>1914</th>\n      <td>1</td>\n      <td>1</td>\n      <td>1</td>\n      <td>0</td>\n      <td>1</td>\n      <td>25</td>\n      <td>25</td>\n      <td>0</td>\n      <td>25</td>\n    </tr>\n    <tr>\n      <th>1915</th>\n      <td>1</td>\n      <td>1400</td>\n      <td>1400</td>\n      <td>0</td>\n      <td>1400</td>\n      <td>36022</td>\n      <td>36022</td>\n      <td>0</td>\n      <td>36022</td>\n    </tr>\n    <tr>\n      <th>...</th>\n      <td>...</td>\n      <td>...</td>\n      <td>...</td>\n      <td>...</td>\n      <td>...</td>\n      <td>...</td>\n      <td>...</td>\n      <td>...</td>\n      <td>...</td>\n    </tr>\n    <tr>\n      <th>2016</th>\n      <td>3257</td>\n      <td>240000</td>\n      <td>298935</td>\n      <td>321634</td>\n      <td>713380</td>\n      <td>259200</td>\n      <td>322850</td>\n      <td>347365</td>\n      <td>770450</td>\n    </tr>\n    <tr>\n      <th>2017</th>\n      <td>3376</td>\n      <td>252500</td>\n      <td>283108</td>\n      <td>150587</td>\n      <td>650000</td>\n      <td>267650</td>\n      <td>300095</td>\n      <td>159622</td>\n      <td>689000</td>\n    </tr>\n    <tr>\n      <th>2018</th>\n      <td>3196</td>\n      <td>272000</td>\n      <td>301040</td>\n      <td>131844</td>\n      <td>645000</td>\n      <td>282880</td>\n      <td>313082</td>\n      <td>137118</td>\n      <td>670800</td>\n    </tr>\n    <tr>\n      <th>2019</th>\n      <td>3076</td>\n      <td>285000</td>\n      <td>330194</td>\n      <td>266918</td>\n      <td>745625</td>\n      <td>290700</td>\n      <td>336798</td>\n      <td>272257</td>\n      <td>760537</td>\n    </tr>\n    <tr>\n      <th>2020</th>\n      <td>2171</td>\n      <td>306000</td>\n      <td>334240</td>\n      <td>139825</td>\n      <td>733099</td>\n      <td>306000</td>\n      <td>334240</td>\n      <td>139825</td>\n      <td>733099</td>\n    </tr>\n  </tbody>\n</table>\n<p>92 rows × 9 columns</p>\n</div>"
     },
     "metadata": {},
     "execution_count": 20
    }
   ],
   "source": [
    "year_sales = pd.DataFrame(columns=[\"Year\", \"Total Sales\", \"Median_Price\", \"Mean_Price\", \"Price_STD\", \"Top2Percent\",\"Median_Price_Inflated\", \"Mean_Price_Inflated\", \"Price_STD_Inflated\", \"Top2Percent_Inflated\"])\n",
    "MEDIAN_2020 = 306000\n",
    "fam_sales_nonzero = fam_sales[fam_sales[\"Price\"] > 0.0]\n",
    "for y in all_sales_years:\n",
    "    data = fam_sales_nonzero[fam_sales_nonzero[\"Year\"] == y]\n",
    "    prices = data[\"Price\"].values\n",
    "    prices_inflated = data[\"Price_Inflated\"].values\n",
    "\n",
    "    record = {\n",
    "        \"Year\": int(y),\n",
    "        \"Total Sales\": len(data),\n",
    "        \"Median_Price\": int(np.median(prices)),\n",
    "        \"Mean_Price\": int(np.mean(prices)),\n",
    "        \"Price_STD\": int(np.std(prices)),\n",
    "        \"Top2Percent\": int(np.quantile(prices, 0.98)),\n",
    "        \"Median_Price_Inflated\": int(np.median(prices_inflated)),\n",
    "        \"Mean_Price_Inflated\": int(np.mean(prices_inflated)),\n",
    "        \"Price_STD_Inflated\": int(np.std(prices_inflated)),\n",
    "        \"Top2Percent_Inflated\": int(np.quantile(prices_inflated, 0.98)),\n",
    "    }\n",
    "    year_sales = year_sales.append(record, ignore_index = True)\n",
    "\n",
    "#year_sales[\"Year\"] = year_sales[\"Year\"].astype(\"str\")\n",
    "year_sales = year_sales.set_index(\"Year\")\n",
    "year_sales\n"
   ]
  },
  {
   "cell_type": "code",
   "execution_count": 28,
   "metadata": {},
   "outputs": [],
   "source": [
    "year_sales.to_csv(\"year_sales.csv\")\n",
    "fam_sales.to_csv(\"single_family_sales.csv\")"
   ]
  },
  {
   "cell_type": "code",
   "execution_count": 21,
   "metadata": {},
   "outputs": [
    {
     "output_type": "execute_result",
     "data": {
      "text/plain": [
       "Year\n",
       "1900    1642892\n",
       "1911         27\n",
       "1912         26\n",
       "1914         25\n",
       "1915      36022\n",
       "         ...   \n",
       "2016     322850\n",
       "2017     300095\n",
       "2018     313082\n",
       "2019     336798\n",
       "2020     334240\n",
       "Name: Mean_Price_Inflated, Length: 92, dtype: object"
      ]
     },
     "metadata": {},
     "execution_count": 21
    }
   ],
   "source": [
    "\n",
    "MEDIAN_2020 = 306000\n",
    "def time_adjust_sales_price(inflated_sales_price, year):\n",
    "    if(inflated_sales_price < 1):\n",
    "        return 0.0\n",
    "    median_year = year_sales.loc[year][\"Median_Price_Inflated\"]\n",
    "    median_difference = MEDIAN_2020 - median_year\n",
    "    return inflated_sales_price + median_difference\n",
    "\n",
    "fam_sales[\"Price_Time_Adjusted\"] = fam_sales.apply(\n",
    "    lambda row: time_adjust_sales_price(row[\"Price_Inflated\"], row[\"Year\"]),\n",
    "    axis=1\n",
    ")\n"
   ]
  },
  {
   "cell_type": "code",
   "execution_count": 23,
   "metadata": {
    "tags": []
   },
   "outputs": [
    {
     "output_type": "stream",
     "name": "stdout",
     "text": [
      "50\n",
      "1975 567690.0\n",
      "62\n",
      "1976 627993.0\n",
      "83\n",
      "1977 695823.0\n",
      "89\n",
      "1978 716679.7000000001\n",
      "83\n",
      "1979 726706.0\n",
      "59\n",
      "1980 743125.0\n",
      "55\n",
      "1981 658638.0\n",
      "67\n",
      "1982 591000.0\n",
      "82\n",
      "1983 595190.0\n",
      "94\n",
      "1984 649740.0\n",
      "98\n",
      "1985 643000.0\n",
      "100\n",
      "1986 700290.0\n",
      "95\n",
      "1987 702000.0\n",
      "94\n",
      "1988 798027.5\n",
      "96\n",
      "1989 728100.0\n",
      "102\n",
      "1990 848440.0\n",
      "106\n",
      "1991 904475.0\n",
      "105\n",
      "1992 904475.0\n",
      "94\n",
      "1993 731250.0\n",
      "88\n",
      "1994 684563.0\n",
      "87\n",
      "1995 662562.0\n",
      "100\n",
      "1996 1701861.0\n",
      "106\n",
      "1997 1892520.0\n",
      "112\n",
      "1998 1892520.0\n",
      "117\n",
      "1999 1892520.0\n",
      "122\n",
      "2000 1794240.0\n",
      "134\n",
      "2001 1828237.0\n",
      "136\n",
      "2002 1828237.0\n",
      "133\n",
      "2003 1828237.0\n",
      "120\n",
      "2004 1746719.9999999998\n",
      "104\n",
      "2005 1783500.0\n",
      "88\n",
      "2006 1982213.0\n",
      "78\n",
      "2007 1249677.79\n",
      "68\n",
      "2008 970020.0\n",
      "64\n",
      "2009 1136620.0\n",
      "66\n",
      "2010 1688721.0\n",
      "75\n",
      "2011 1987680.0000000002\n",
      "86\n",
      "2012 1987680.0000000002\n",
      "93\n",
      "2013 1987680.0000000002\n",
      "96\n",
      "2014 1832800.0000000002\n",
      "100\n",
      "2015 1832800.0000000002\n",
      "99\n",
      "2016 907120.0\n",
      "97\n",
      "2017 868020.0\n",
      "85\n",
      "2018 860320.0\n"
     ]
    },
    {
     "output_type": "display_data",
     "data": {
      "text/plain": "<Figure size 432x288 with 1 Axes>",
      "image/svg+xml": "<?xml version=\"1.0\" encoding=\"utf-8\" standalone=\"no\"?>\n<!DOCTYPE svg PUBLIC \"-//W3C//DTD SVG 1.1//EN\"\n  \"http://www.w3.org/Graphics/SVG/1.1/DTD/svg11.dtd\">\n<!-- Created with matplotlib (https://matplotlib.org/) -->\n<svg height=\"248.518125pt\" version=\"1.1\" viewBox=\"0 0 365.103125 248.518125\" width=\"365.103125pt\" xmlns=\"http://www.w3.org/2000/svg\" xmlns:xlink=\"http://www.w3.org/1999/xlink\">\n <metadata>\n  <rdf:RDF xmlns:cc=\"http://creativecommons.org/ns#\" xmlns:dc=\"http://purl.org/dc/elements/1.1/\" xmlns:rdf=\"http://www.w3.org/1999/02/22-rdf-syntax-ns#\">\n   <cc:Work>\n    <dc:type rdf:resource=\"http://purl.org/dc/dcmitype/StillImage\"/>\n    <dc:date>2020-10-22T12:04:08.605123</dc:date>\n    <dc:format>image/svg+xml</dc:format>\n    <dc:creator>\n     <cc:Agent>\n      <dc:title>Matplotlib v3.3.1, https://matplotlib.org/</dc:title>\n     </cc:Agent>\n    </dc:creator>\n   </cc:Work>\n  </rdf:RDF>\n </metadata>\n <defs>\n  <style type=\"text/css\">*{stroke-linecap:butt;stroke-linejoin:round;}</style>\n </defs>\n <g id=\"figure_1\">\n  <g id=\"patch_1\">\n   <path d=\"M 0 248.518125 \nL 365.103125 248.518125 \nL 365.103125 0 \nL 0 0 \nz\n\" style=\"fill:#ffffff;\"/>\n  </g>\n  <g id=\"axes_1\">\n   <g id=\"patch_2\">\n    <path d=\"M 15.151563 224.64 \nL 349.951563 224.64 \nL 349.951563 7.2 \nL 15.151563 7.2 \nz\n\" style=\"fill:#ffffff;\"/>\n   </g>\n   <g id=\"matplotlib.axis_1\">\n    <g id=\"xtick_1\">\n     <g id=\"line2d_1\">\n      <path clip-path=\"url(#pda38e559aa)\" d=\"M 15.151563 224.64 \nL 15.151563 7.2 \n\" style=\"fill:none;stroke:#cccccc;stroke-linecap:round;stroke-width:0.8;\"/>\n     </g>\n     <g id=\"text_1\">\n      <!-- 0.0 -->\n      <g style=\"fill:#262626;\" transform=\"translate(7.2 239.238437)scale(0.1 -0.1)\">\n       <defs>\n        <path d=\"M 31.78125 66.40625 \nQ 24.171875 66.40625 20.328125 58.90625 \nQ 16.5 51.421875 16.5 36.375 \nQ 16.5 21.390625 20.328125 13.890625 \nQ 24.171875 6.390625 31.78125 6.390625 \nQ 39.453125 6.390625 43.28125 13.890625 \nQ 47.125 21.390625 47.125 36.375 \nQ 47.125 51.421875 43.28125 58.90625 \nQ 39.453125 66.40625 31.78125 66.40625 \nz\nM 31.78125 74.21875 \nQ 44.046875 74.21875 50.515625 64.515625 \nQ 56.984375 54.828125 56.984375 36.375 \nQ 56.984375 17.96875 50.515625 8.265625 \nQ 44.046875 -1.421875 31.78125 -1.421875 \nQ 19.53125 -1.421875 13.0625 8.265625 \nQ 6.59375 17.96875 6.59375 36.375 \nQ 6.59375 54.828125 13.0625 64.515625 \nQ 19.53125 74.21875 31.78125 74.21875 \nz\n\" id=\"DejaVuSans-48\"/>\n        <path d=\"M 10.6875 12.40625 \nL 21 12.40625 \nL 21 0 \nL 10.6875 0 \nz\n\" id=\"DejaVuSans-46\"/>\n       </defs>\n       <use xlink:href=\"#DejaVuSans-48\"/>\n       <use x=\"63.623047\" xlink:href=\"#DejaVuSans-46\"/>\n       <use x=\"95.410156\" xlink:href=\"#DejaVuSans-48\"/>\n      </g>\n     </g>\n    </g>\n    <g id=\"xtick_2\">\n     <g id=\"line2d_2\">\n      <path clip-path=\"url(#pda38e559aa)\" d=\"M 82.111563 224.64 \nL 82.111563 7.2 \n\" style=\"fill:none;stroke:#cccccc;stroke-linecap:round;stroke-width:0.8;\"/>\n     </g>\n     <g id=\"text_2\">\n      <!-- 0.2 -->\n      <g style=\"fill:#262626;\" transform=\"translate(74.16 239.238437)scale(0.1 -0.1)\">\n       <defs>\n        <path d=\"M 19.1875 8.296875 \nL 53.609375 8.296875 \nL 53.609375 0 \nL 7.328125 0 \nL 7.328125 8.296875 \nQ 12.9375 14.109375 22.625 23.890625 \nQ 32.328125 33.6875 34.8125 36.53125 \nQ 39.546875 41.84375 41.421875 45.53125 \nQ 43.3125 49.21875 43.3125 52.78125 \nQ 43.3125 58.59375 39.234375 62.25 \nQ 35.15625 65.921875 28.609375 65.921875 \nQ 23.96875 65.921875 18.8125 64.3125 \nQ 13.671875 62.703125 7.8125 59.421875 \nL 7.8125 69.390625 \nQ 13.765625 71.78125 18.9375 73 \nQ 24.125 74.21875 28.421875 74.21875 \nQ 39.75 74.21875 46.484375 68.546875 \nQ 53.21875 62.890625 53.21875 53.421875 \nQ 53.21875 48.921875 51.53125 44.890625 \nQ 49.859375 40.875 45.40625 35.40625 \nQ 44.1875 33.984375 37.640625 27.21875 \nQ 31.109375 20.453125 19.1875 8.296875 \nz\n\" id=\"DejaVuSans-50\"/>\n       </defs>\n       <use xlink:href=\"#DejaVuSans-48\"/>\n       <use x=\"63.623047\" xlink:href=\"#DejaVuSans-46\"/>\n       <use x=\"95.410156\" xlink:href=\"#DejaVuSans-50\"/>\n      </g>\n     </g>\n    </g>\n    <g id=\"xtick_3\">\n     <g id=\"line2d_3\">\n      <path clip-path=\"url(#pda38e559aa)\" d=\"M 149.071563 224.64 \nL 149.071563 7.2 \n\" style=\"fill:none;stroke:#cccccc;stroke-linecap:round;stroke-width:0.8;\"/>\n     </g>\n     <g id=\"text_3\">\n      <!-- 0.4 -->\n      <g style=\"fill:#262626;\" transform=\"translate(141.12 239.238437)scale(0.1 -0.1)\">\n       <defs>\n        <path d=\"M 37.796875 64.3125 \nL 12.890625 25.390625 \nL 37.796875 25.390625 \nz\nM 35.203125 72.90625 \nL 47.609375 72.90625 \nL 47.609375 25.390625 \nL 58.015625 25.390625 \nL 58.015625 17.1875 \nL 47.609375 17.1875 \nL 47.609375 0 \nL 37.796875 0 \nL 37.796875 17.1875 \nL 4.890625 17.1875 \nL 4.890625 26.703125 \nz\n\" id=\"DejaVuSans-52\"/>\n       </defs>\n       <use xlink:href=\"#DejaVuSans-48\"/>\n       <use x=\"63.623047\" xlink:href=\"#DejaVuSans-46\"/>\n       <use x=\"95.410156\" xlink:href=\"#DejaVuSans-52\"/>\n      </g>\n     </g>\n    </g>\n    <g id=\"xtick_4\">\n     <g id=\"line2d_4\">\n      <path clip-path=\"url(#pda38e559aa)\" d=\"M 216.031563 224.64 \nL 216.031563 7.2 \n\" style=\"fill:none;stroke:#cccccc;stroke-linecap:round;stroke-width:0.8;\"/>\n     </g>\n     <g id=\"text_4\">\n      <!-- 0.6 -->\n      <g style=\"fill:#262626;\" transform=\"translate(208.08 239.238437)scale(0.1 -0.1)\">\n       <defs>\n        <path d=\"M 33.015625 40.375 \nQ 26.375 40.375 22.484375 35.828125 \nQ 18.609375 31.296875 18.609375 23.390625 \nQ 18.609375 15.53125 22.484375 10.953125 \nQ 26.375 6.390625 33.015625 6.390625 \nQ 39.65625 6.390625 43.53125 10.953125 \nQ 47.40625 15.53125 47.40625 23.390625 \nQ 47.40625 31.296875 43.53125 35.828125 \nQ 39.65625 40.375 33.015625 40.375 \nz\nM 52.59375 71.296875 \nL 52.59375 62.3125 \nQ 48.875 64.0625 45.09375 64.984375 \nQ 41.3125 65.921875 37.59375 65.921875 \nQ 27.828125 65.921875 22.671875 59.328125 \nQ 17.53125 52.734375 16.796875 39.40625 \nQ 19.671875 43.65625 24.015625 45.921875 \nQ 28.375 48.1875 33.59375 48.1875 \nQ 44.578125 48.1875 50.953125 41.515625 \nQ 57.328125 34.859375 57.328125 23.390625 \nQ 57.328125 12.15625 50.6875 5.359375 \nQ 44.046875 -1.421875 33.015625 -1.421875 \nQ 20.359375 -1.421875 13.671875 8.265625 \nQ 6.984375 17.96875 6.984375 36.375 \nQ 6.984375 53.65625 15.1875 63.9375 \nQ 23.390625 74.21875 37.203125 74.21875 \nQ 40.921875 74.21875 44.703125 73.484375 \nQ 48.484375 72.75 52.59375 71.296875 \nz\n\" id=\"DejaVuSans-54\"/>\n       </defs>\n       <use xlink:href=\"#DejaVuSans-48\"/>\n       <use x=\"63.623047\" xlink:href=\"#DejaVuSans-46\"/>\n       <use x=\"95.410156\" xlink:href=\"#DejaVuSans-54\"/>\n      </g>\n     </g>\n    </g>\n    <g id=\"xtick_5\">\n     <g id=\"line2d_5\">\n      <path clip-path=\"url(#pda38e559aa)\" d=\"M 282.991563 224.64 \nL 282.991563 7.2 \n\" style=\"fill:none;stroke:#cccccc;stroke-linecap:round;stroke-width:0.8;\"/>\n     </g>\n     <g id=\"text_5\">\n      <!-- 0.8 -->\n      <g style=\"fill:#262626;\" transform=\"translate(275.04 239.238437)scale(0.1 -0.1)\">\n       <defs>\n        <path d=\"M 31.78125 34.625 \nQ 24.75 34.625 20.71875 30.859375 \nQ 16.703125 27.09375 16.703125 20.515625 \nQ 16.703125 13.921875 20.71875 10.15625 \nQ 24.75 6.390625 31.78125 6.390625 \nQ 38.8125 6.390625 42.859375 10.171875 \nQ 46.921875 13.96875 46.921875 20.515625 \nQ 46.921875 27.09375 42.890625 30.859375 \nQ 38.875 34.625 31.78125 34.625 \nz\nM 21.921875 38.8125 \nQ 15.578125 40.375 12.03125 44.71875 \nQ 8.5 49.078125 8.5 55.328125 \nQ 8.5 64.0625 14.71875 69.140625 \nQ 20.953125 74.21875 31.78125 74.21875 \nQ 42.671875 74.21875 48.875 69.140625 \nQ 55.078125 64.0625 55.078125 55.328125 \nQ 55.078125 49.078125 51.53125 44.71875 \nQ 48 40.375 41.703125 38.8125 \nQ 48.828125 37.15625 52.796875 32.3125 \nQ 56.78125 27.484375 56.78125 20.515625 \nQ 56.78125 9.90625 50.3125 4.234375 \nQ 43.84375 -1.421875 31.78125 -1.421875 \nQ 19.734375 -1.421875 13.25 4.234375 \nQ 6.78125 9.90625 6.78125 20.515625 \nQ 6.78125 27.484375 10.78125 32.3125 \nQ 14.796875 37.15625 21.921875 38.8125 \nz\nM 18.3125 54.390625 \nQ 18.3125 48.734375 21.84375 45.5625 \nQ 25.390625 42.390625 31.78125 42.390625 \nQ 38.140625 42.390625 41.71875 45.5625 \nQ 45.3125 48.734375 45.3125 54.390625 \nQ 45.3125 60.0625 41.71875 63.234375 \nQ 38.140625 66.40625 31.78125 66.40625 \nQ 25.390625 66.40625 21.84375 63.234375 \nQ 18.3125 60.0625 18.3125 54.390625 \nz\n\" id=\"DejaVuSans-56\"/>\n       </defs>\n       <use xlink:href=\"#DejaVuSans-48\"/>\n       <use x=\"63.623047\" xlink:href=\"#DejaVuSans-46\"/>\n       <use x=\"95.410156\" xlink:href=\"#DejaVuSans-56\"/>\n      </g>\n     </g>\n    </g>\n    <g id=\"xtick_6\">\n     <g id=\"line2d_6\">\n      <path clip-path=\"url(#pda38e559aa)\" d=\"M 349.951563 224.64 \nL 349.951563 7.2 \n\" style=\"fill:none;stroke:#cccccc;stroke-linecap:round;stroke-width:0.8;\"/>\n     </g>\n     <g id=\"text_6\">\n      <!-- 1.0 -->\n      <g style=\"fill:#262626;\" transform=\"translate(342 239.238437)scale(0.1 -0.1)\">\n       <defs>\n        <path d=\"M 12.40625 8.296875 \nL 28.515625 8.296875 \nL 28.515625 63.921875 \nL 10.984375 60.40625 \nL 10.984375 69.390625 \nL 28.421875 72.90625 \nL 38.28125 72.90625 \nL 38.28125 8.296875 \nL 54.390625 8.296875 \nL 54.390625 0 \nL 12.40625 0 \nz\n\" id=\"DejaVuSans-49\"/>\n       </defs>\n       <use xlink:href=\"#DejaVuSans-49\"/>\n       <use x=\"63.623047\" xlink:href=\"#DejaVuSans-46\"/>\n       <use x=\"95.410156\" xlink:href=\"#DejaVuSans-48\"/>\n      </g>\n     </g>\n    </g>\n   </g>\n   <g id=\"patch_3\">\n    <path d=\"M 15.151563 224.64 \nL 15.151563 7.2 \n\" style=\"fill:none;stroke:#cccccc;stroke-linecap:square;stroke-linejoin:miter;stroke-width:0.8;\"/>\n   </g>\n   <g id=\"patch_4\">\n    <path d=\"M 349.951563 224.64 \nL 349.951563 7.2 \n\" style=\"fill:none;stroke:#cccccc;stroke-linecap:square;stroke-linejoin:miter;stroke-width:0.8;\"/>\n   </g>\n   <g id=\"patch_5\">\n    <path d=\"M 15.151563 224.64 \nL 349.951563 224.64 \n\" style=\"fill:none;stroke:#cccccc;stroke-linecap:square;stroke-linejoin:miter;stroke-width:0.8;\"/>\n   </g>\n   <g id=\"patch_6\">\n    <path d=\"M 15.151563 7.2 \nL 349.951563 7.2 \n\" style=\"fill:none;stroke:#cccccc;stroke-linecap:square;stroke-linejoin:miter;stroke-width:0.8;\"/>\n   </g>\n  </g>\n </g>\n <defs>\n  <clipPath id=\"pda38e559aa\">\n   <rect height=\"217.44\" width=\"334.8\" x=\"15.151563\" y=\"7.2\"/>\n  </clipPath>\n </defs>\n</svg>\n",
      "image/png": "[encoded data removed]"
     },
     "metadata": {}
    }
   ],
   "source": [
    "def drop_top_values(values, percent_drop):\n",
    "    n = len(values)\n",
    "    values_to_drop = int(n * (percent_drop / 100)) + 1\n",
    "    print(values_to_drop)\n",
    "    values_sorted = list(sorted(values))\n",
    "    return values_sorted[:-values_to_drop]\n",
    "\n",
    "def drop_top_values_lim(values, top_lim):\n",
    "    return [v for v in values if v < top_lim]\n",
    "\n",
    "def getPricesInYear(df, year):\n",
    "    salesInYear = df[df[\"Year\"] == year]\n",
    "    prices = salesInYear[\"Price\"].values\n",
    "    return prices\n",
    "\n",
    "def getPricesInYear_Inflated(df, year):\n",
    "    salesInYear = df[df[\"Year\"] == year]\n",
    "    prices = salesInYear[\"Price_Time_Adjusted\"].values\n",
    "    return prices\n",
    "\n",
    "def plot_inflated_sales_prices(df, year_start, year_end, inflated = True):\n",
    "    years = list(range(year_start, year_end+1))\n",
    "    prices = []\n",
    "\n",
    "    if(inflated):\n",
    "        file_name = f\"anim/inf_sales_{year_start}_{year_end}.png\"\n",
    "        title = f\"Madison Home Sales Prices {year_start} - {year_end} (Inflated)\"\n",
    "        xlab = \"Price (2020 Dollars, Thousands)\"\n",
    "        for y in years:\n",
    "            prices.extend(getPricesInYear_Inflated(df, y))\n",
    "    else:\n",
    "        file_name = f\"anim/sales_{year_start}_{year_end}.png\"\n",
    "        title = f\"Madison Home Sales Prices {year_start} - {year_end}\"\n",
    "        xlab = \"Price (Thousands)\"\n",
    "        for y in years:\n",
    "            prices.extend(getPricesInYear(df, y))\n",
    "\n",
    "\n",
    "    prices_drop_top = drop_top_values(prices, 1)\n",
    "    prices_drop_top = drop_top_values_lim(prices_drop_top, 2000000)\n",
    "    print(year_start, max(prices_drop_top))\n",
    "    median = np.median(prices_drop_top)\n",
    "\n",
    "\n",
    "    sns.set_style('whitegrid')\n",
    "    p = sns.kdeplot(np.array(prices_drop_top), bw=0.15)\n",
    "    p.set_title(title)\n",
    "    p.set_xlim(0, 1000000)\n",
    "    p.set_xlabel(xlab)\n",
    "    p.get_yaxis().set_visible(False)\n",
    "    p.set_xticks(np.arange(0, 1000000, 100000))\n",
    "    p.set_xticklabels([\"0\", \"100K\", \"200K\", \"300K\", \"400K\", \"500K\", \"600K\", \"700K\", \"800K\", \"900K\"])\n",
    "    p.axvline(x=median, c=\"orange\")\n",
    "    \n",
    "    legend_elements = [Line2D([0], [0], color='orange', lw=4, label='Median')]\n",
    "    p.legend(handles=legend_elements)\n",
    "\n",
    "    #print(dir(p))\n",
    "    p.figure.savefig(file_name, dpi=200)\n",
    "    p.cla()\n",
    "    return file_name\n",
    "\n",
    "def plot_inflated_sales_prices_animation(df, inflated = True):\n",
    "    frame_names = []\n",
    "    images = []\n",
    "    curr_base_year = 1975\n",
    "    last_base_year = 2018\n",
    "    while(curr_base_year <= last_base_year):\n",
    "        end_year = curr_base_year + 2\n",
    "        frame_names.append(plot_inflated_sales_prices(df, curr_base_year, end_year, inflated))\n",
    "        curr_base_year += 1\n",
    "\n",
    "    for frame_filename in frame_names:\n",
    "        images.append(imageio.imread(frame_filename))\n",
    "        images.append(imageio.imread(frame_filename))\n",
    "        images.append(imageio.imread(frame_filename))\n",
    "    if(inflated):\n",
    "        imageio.mimsave('home_sales_inflated_7year.gif', images)\n",
    "    else:\n",
    "        imageio.mimsave('home_sales_7year.gif', images)\n",
    "\n",
    "\n",
    "#plot_inflated_sales_prices_animation(fam_sales, True)\n",
    "fam_sales_g0 = fam_sales[fam_sales[\"Price_Time_Adjusted\"] > 0]\n",
    "plot_inflated_sales_prices_animation(fam_sales_g0, True)"
   ]
  },
  {
   "cell_type": "code",
   "execution_count": 26,
   "metadata": {},
   "outputs": [
    {
     "output_type": "execute_result",
     "data": {
      "text/plain": [
       "330416.52290929836"
      ]
     },
     "metadata": {},
     "execution_count": 26
    }
   ],
   "source": [
    "np.mean(fam_sales[\"Price_Time_Adjusted\"])\n",
    "\n"
   ]
  },
  {
   "cell_type": "code",
   "execution_count": 13,
   "metadata": {},
   "outputs": [
    {
     "output_type": "stream",
     "name": "stdout",
     "text": [
      "\n"
     ]
    }
   ],
   "source": [
    "print()"
   ]
  },
  {
   "cell_type": "code",
   "execution_count": 14,
   "metadata": {},
   "outputs": [
    {
     "output_type": "stream",
     "name": "stdout",
     "text": [
      "\n"
     ]
    }
   ],
   "source": [
    "\n",
    "print()"
   ]
  },
  {
   "cell_type": "code",
   "execution_count": 15,
   "metadata": {},
   "outputs": [
    {
     "output_type": "stream",
     "name": "stdout",
     "text": [
      "\n"
     ]
    }
   ],
   "source": [
    "print()"
   ]
  },
  {
   "cell_type": "code",
   "execution_count": 138,
   "metadata": {},
   "outputs": [
    {
     "output_type": "execute_result",
     "data": {
      "text/plain": "              XRefParcel                 Address PropertyClass  PropertyUse  \\\nParcel                                                                        \n71002107665  71002104033  121 Metro Ter Unit 109   Residential  Condominium   \n71002107673  71002104033  121 Metro Ter Unit 201   Residential  Condominium   \n71002107681  71002104033  121 Metro Ter Unit 202   Residential  Condominium   \n71002107699  71002104033  121 Metro Ter Unit 203   Residential  Condominium   \n71002107706  71002104033  121 Metro Ter Unit 204   Residential  Condominium   \n...                  ...                     ...           ...          ...   \n71002107615  71002104033  121 Metro Ter Unit 104   Residential  Condominium   \n71002107623  71002104033  121 Metro Ter Unit 105   Residential  Condominium   \n71002107631  71002104033  121 Metro Ter Unit 106   Residential  Condominium   \n71002107649  71002104033  121 Metro Ter Unit 107   Residential  Condominium   \n71002107657  71002104033  121 Metro Ter Unit 108   Residential  Condominium   \n\n             AssessmentArea MoreThanOneBuild HomeStyle  YearBuilt  Bedrooms  \\\nParcel                                                                        \n71002107665            5115              NaN    Garden       2006         2   \n71002107673            5115              NaN    Garden       2006         2   \n71002107681            5115              NaN    Garden       2006         3   \n71002107699            5115              NaN    Garden       2006         1   \n71002107706            5115              NaN    Garden       2006         2   \n...                     ...              ...       ...        ...       ...   \n71002107615            5115              NaN    Garden       2006         2   \n71002107623            5115              NaN    Garden       2006         2   \n71002107631            5115              NaN    Garden       2006         1   \n71002107649            5115              NaN    Garden       2006         1   \n71002107657            5115              NaN    Garden       2006         3   \n\n             FullBaths  ...  StreetID  MaxConstructionYear      XCoord  \\\nParcel                  ...                                              \n71002107665          2  ...      5686                 2006  851889.992   \n71002107673          2  ...      5686                 2006  851889.992   \n71002107681          2  ...      5686                 2006  851889.992   \n71002107699          1  ...      5686                 2006  851889.992   \n71002107706          2  ...      5686                 2006  851889.992   \n...                ...  ...       ...                  ...         ...   \n71002107615          2  ...      5686                 2006  851889.992   \n71002107623          2  ...      5686                 2006  851889.992   \n71002107631          1  ...      5686                 2006  851889.992   \n71002107649          1  ...      5686                 2006  851889.992   \n71002107657          2  ...      5686                 2006  851889.992   \n\n                  YCoord  SHAPESTArea  SHAPESTLength        lat        lon  \\\nParcel                                                                       \n71002107665  492200.3022  189753.7883     1842.05604  43.100414 -89.268753   \n71002107673  492200.3022  189753.7883     1842.05604  43.100414 -89.268753   \n71002107681  492200.3022  189753.7883     1842.05604  43.100414 -89.268753   \n71002107699  492200.3022  189753.7883     1842.05604  43.100414 -89.268753   \n71002107706  492200.3022  189753.7883     1842.05604  43.100414 -89.268753   \n...                  ...          ...            ...        ...        ...   \n71002107615  492200.3022  189753.7883     1842.05604  43.100414 -89.268753   \n71002107623  492200.3022  189753.7883     1842.05604  43.100414 -89.268753   \n71002107631  492200.3022  189753.7883     1842.05604  43.100414 -89.268753   \n71002107649  492200.3022  189753.7883     1842.05604  43.100414 -89.268753   \n71002107657  492200.3022  189753.7883     1842.05604  43.100414 -89.268753   \n\n             property_kind Total_Assessment  \nParcel                                       \n71002107665          condo         163900.0  \n71002107673          condo         170200.0  \n71002107681          condo         190800.0  \n71002107699          condo         118000.0  \n71002107706          condo         163200.0  \n...                    ...              ...  \n71002107615          condo         152400.0  \n71002107623          condo         160200.0  \n71002107631          condo         127400.0  \n71002107649          condo         118700.0  \n71002107657          condo         183000.0  \n\n[80166 rows x 77 columns]",
      "text/html": "<div>\n<style scoped>\n    .dataframe tbody tr th:only-of-type {\n        vertical-align: middle;\n    }\n\n    .dataframe tbody tr th {\n        vertical-align: top;\n    }\n\n    .dataframe thead th {\n        text-align: right;\n    }\n</style>\n<table border=\"1\" class=\"dataframe\">\n  <thead>\n    <tr style=\"text-align: right;\">\n      <th></th>\n      <th>XRefParcel</th>\n      <th>Address</th>\n      <th>PropertyClass</th>\n      <th>PropertyUse</th>\n      <th>AssessmentArea</th>\n      <th>MoreThanOneBuild</th>\n      <th>HomeStyle</th>\n      <th>YearBuilt</th>\n      <th>Bedrooms</th>\n      <th>FullBaths</th>\n      <th>...</th>\n      <th>StreetID</th>\n      <th>MaxConstructionYear</th>\n      <th>XCoord</th>\n      <th>YCoord</th>\n      <th>SHAPESTArea</th>\n      <th>SHAPESTLength</th>\n      <th>lat</th>\n      <th>lon</th>\n      <th>property_kind</th>\n      <th>Total_Assessment</th>\n    </tr>\n    <tr>\n      <th>Parcel</th>\n      <th></th>\n      <th></th>\n      <th></th>\n      <th></th>\n      <th></th>\n      <th></th>\n      <th></th>\n      <th></th>\n      <th></th>\n      <th></th>\n      <th></th>\n      <th></th>\n      <th></th>\n      <th></th>\n      <th></th>\n      <th></th>\n      <th></th>\n      <th></th>\n      <th></th>\n      <th></th>\n      <th></th>\n    </tr>\n  </thead>\n  <tbody>\n    <tr>\n      <th>71002107665</th>\n      <td>71002104033</td>\n      <td>121 Metro Ter Unit 109</td>\n      <td>Residential</td>\n      <td>Condominium</td>\n      <td>5115</td>\n      <td>NaN</td>\n      <td>Garden</td>\n      <td>2006</td>\n      <td>2</td>\n      <td>2</td>\n      <td>...</td>\n      <td>5686</td>\n      <td>2006</td>\n      <td>851889.992</td>\n      <td>492200.3022</td>\n      <td>189753.7883</td>\n      <td>1842.05604</td>\n      <td>43.100414</td>\n      <td>-89.268753</td>\n      <td>condo</td>\n      <td>163900.0</td>\n    </tr>\n    <tr>\n      <th>71002107673</th>\n      <td>71002104033</td>\n      <td>121 Metro Ter Unit 201</td>\n      <td>Residential</td>\n      <td>Condominium</td>\n      <td>5115</td>\n      <td>NaN</td>\n      <td>Garden</td>\n      <td>2006</td>\n      <td>2</td>\n      <td>2</td>\n      <td>...</td>\n      <td>5686</td>\n      <td>2006</td>\n      <td>851889.992</td>\n      <td>492200.3022</td>\n      <td>189753.7883</td>\n      <td>1842.05604</td>\n      <td>43.100414</td>\n      <td>-89.268753</td>\n      <td>condo</td>\n      <td>170200.0</td>\n    </tr>\n    <tr>\n      <th>71002107681</th>\n      <td>71002104033</td>\n      <td>121 Metro Ter Unit 202</td>\n      <td>Residential</td>\n      <td>Condominium</td>\n      <td>5115</td>\n      <td>NaN</td>\n      <td>Garden</td>\n      <td>2006</td>\n      <td>3</td>\n      <td>2</td>\n      <td>...</td>\n      <td>5686</td>\n      <td>2006</td>\n      <td>851889.992</td>\n      <td>492200.3022</td>\n      <td>189753.7883</td>\n      <td>1842.05604</td>\n      <td>43.100414</td>\n      <td>-89.268753</td>\n      <td>condo</td>\n      <td>190800.0</td>\n    </tr>\n    <tr>\n      <th>71002107699</th>\n      <td>71002104033</td>\n      <td>121 Metro Ter Unit 203</td>\n      <td>Residential</td>\n      <td>Condominium</td>\n      <td>5115</td>\n      <td>NaN</td>\n      <td>Garden</td>\n      <td>2006</td>\n      <td>1</td>\n      <td>1</td>\n      <td>...</td>\n      <td>5686</td>\n      <td>2006</td>\n      <td>851889.992</td>\n      <td>492200.3022</td>\n      <td>189753.7883</td>\n      <td>1842.05604</td>\n      <td>43.100414</td>\n      <td>-89.268753</td>\n      <td>condo</td>\n      <td>118000.0</td>\n    </tr>\n    <tr>\n      <th>71002107706</th>\n      <td>71002104033</td>\n      <td>121 Metro Ter Unit 204</td>\n      <td>Residential</td>\n      <td>Condominium</td>\n      <td>5115</td>\n      <td>NaN</td>\n      <td>Garden</td>\n      <td>2006</td>\n      <td>2</td>\n      <td>2</td>\n      <td>...</td>\n      <td>5686</td>\n      <td>2006</td>\n      <td>851889.992</td>\n      <td>492200.3022</td>\n      <td>189753.7883</td>\n      <td>1842.05604</td>\n      <td>43.100414</td>\n      <td>-89.268753</td>\n      <td>condo</td>\n      <td>163200.0</td>\n    </tr>\n    <tr>\n      <th>...</th>\n      <td>...</td>\n      <td>...</td>\n      <td>...</td>\n      <td>...</td>\n      <td>...</td>\n      <td>...</td>\n      <td>...</td>\n      <td>...</td>\n      <td>...</td>\n      <td>...</td>\n      <td>...</td>\n      <td>...</td>\n      <td>...</td>\n      <td>...</td>\n      <td>...</td>\n      <td>...</td>\n      <td>...</td>\n      <td>...</td>\n      <td>...</td>\n      <td>...</td>\n      <td>...</td>\n    </tr>\n    <tr>\n      <th>71002107615</th>\n      <td>71002104033</td>\n      <td>121 Metro Ter Unit 104</td>\n      <td>Residential</td>\n      <td>Condominium</td>\n      <td>5115</td>\n      <td>NaN</td>\n      <td>Garden</td>\n      <td>2006</td>\n      <td>2</td>\n      <td>2</td>\n      <td>...</td>\n      <td>5686</td>\n      <td>2006</td>\n      <td>851889.992</td>\n      <td>492200.3022</td>\n      <td>189753.7883</td>\n      <td>1842.05604</td>\n      <td>43.100414</td>\n      <td>-89.268753</td>\n      <td>condo</td>\n      <td>152400.0</td>\n    </tr>\n    <tr>\n      <th>71002107623</th>\n      <td>71002104033</td>\n      <td>121 Metro Ter Unit 105</td>\n      <td>Residential</td>\n      <td>Condominium</td>\n      <td>5115</td>\n      <td>NaN</td>\n      <td>Garden</td>\n      <td>2006</td>\n      <td>2</td>\n      <td>2</td>\n      <td>...</td>\n      <td>5686</td>\n      <td>2006</td>\n      <td>851889.992</td>\n      <td>492200.3022</td>\n      <td>189753.7883</td>\n      <td>1842.05604</td>\n      <td>43.100414</td>\n      <td>-89.268753</td>\n      <td>condo</td>\n      <td>160200.0</td>\n    </tr>\n    <tr>\n      <th>71002107631</th>\n      <td>71002104033</td>\n      <td>121 Metro Ter Unit 106</td>\n      <td>Residential</td>\n      <td>Condominium</td>\n      <td>5115</td>\n      <td>NaN</td>\n      <td>Garden</td>\n      <td>2006</td>\n      <td>1</td>\n      <td>1</td>\n      <td>...</td>\n      <td>5686</td>\n      <td>2006</td>\n      <td>851889.992</td>\n      <td>492200.3022</td>\n      <td>189753.7883</td>\n      <td>1842.05604</td>\n      <td>43.100414</td>\n      <td>-89.268753</td>\n      <td>condo</td>\n      <td>127400.0</td>\n    </tr>\n    <tr>\n      <th>71002107649</th>\n      <td>71002104033</td>\n      <td>121 Metro Ter Unit 107</td>\n      <td>Residential</td>\n      <td>Condominium</td>\n      <td>5115</td>\n      <td>NaN</td>\n      <td>Garden</td>\n      <td>2006</td>\n      <td>1</td>\n      <td>1</td>\n      <td>...</td>\n      <td>5686</td>\n      <td>2006</td>\n      <td>851889.992</td>\n      <td>492200.3022</td>\n      <td>189753.7883</td>\n      <td>1842.05604</td>\n      <td>43.100414</td>\n      <td>-89.268753</td>\n      <td>condo</td>\n      <td>118700.0</td>\n    </tr>\n    <tr>\n      <th>71002107657</th>\n      <td>71002104033</td>\n      <td>121 Metro Ter Unit 108</td>\n      <td>Residential</td>\n      <td>Condominium</td>\n      <td>5115</td>\n      <td>NaN</td>\n      <td>Garden</td>\n      <td>2006</td>\n      <td>3</td>\n      <td>2</td>\n      <td>...</td>\n      <td>5686</td>\n      <td>2006</td>\n      <td>851889.992</td>\n      <td>492200.3022</td>\n      <td>189753.7883</td>\n      <td>1842.05604</td>\n      <td>43.100414</td>\n      <td>-89.268753</td>\n      <td>condo</td>\n      <td>183000.0</td>\n    </tr>\n  </tbody>\n</table>\n<p>80166 rows × 77 columns</p>\n</div>"
     },
     "metadata": {},
     "execution_count": 138
    }
   ],
   "source": [
    "#core = core.drop(columns=[\"industrial_sites_near\", \"commercial_sites_near\", \"vacant_sites_near\"])\n",
    "(all_assessments) = data_retreiver.load_csv_datasets(\"all_parcel_assessments\")\n",
    "\n",
    "all_assessments = all_assessments[0]\n",
    "all_assessments[\"Parcel\"] = all_assessments[\"Parcel\"].astype(\"str\")\n",
    "all_assessments.set_index(\"Parcel\", inplace=True)\n",
    "\n",
    "\n",
    "assessment_dict = all_assessments[\"Total_Assessment\"].to_dict()\n",
    "\n",
    "core[\"Total_Assessment\"] = core.index.map(assessment_dict)\n",
    "core"
   ]
  },
  {
   "cell_type": "code",
   "execution_count": 141,
   "metadata": {},
   "outputs": [],
   "source": [
    "def getLatLonPairs(df):\n",
    "    result = []\n",
    "    for pid, record in df.iterrows():\n",
    "        lat = record[\"lat\"]\n",
    "        lon = record[\"lon\"]\n",
    "        result.append((lat, lon))\n",
    "    return result\n",
    "    \n",
    "\n",
    "def getNumNearProperties(base_lat, base_lon, relevant_locations):\n",
    "    count = 0\n",
    "    for loc_lat, loc_lon in relevant_locations:\n",
    "        lat_delta = abs(base_lat - loc_lat)\n",
    "        lon_delta = abs(base_lon - loc_lon)\n",
    "        if(lat_delta < 0.02 and lon_delta < 0.02):\n",
    "            d = distance.distance((base_lat, base_lon), (loc_lat, loc_lon)).km\n",
    "            if(d < 1):\n",
    "                count += 1\n",
    "    return count\n",
    "\n",
    "def getNearDataframe(targetdf, sampledf, property_kind, new_col_name):\n",
    "    right_kind_df = sampledf[sampledf[\"property_kind\"] == property_kind]\n",
    "    relevant_locations = getLatLonPairs(right_kind_df)\n",
    "\n",
    "    result = pd.DataFrame(columns=[\"Parcel\", new_col_name])\n",
    "    records = []\n",
    "    rowindex = 0\n",
    "    for pid, content in targetdf.iterrows():\n",
    "        if(rowindex % 1000 == 0):\n",
    "            print(rowindex, end=\", \")\n",
    "        rowindex += 1\n",
    "        home_lat = content[\"lat\"]\n",
    "        home_lon = content[\"lon\"]\n",
    "        count = getNumNearProperties(home_lat, home_lon, relevant_locations)\n",
    "        records.append({\"Parcel\": str(pid), new_col_name: count})\n",
    "    return result.append(records)\n",
    "\n",
    "core_fam = core[core[\"property_kind\"] == \"single_family_home\"]\n",
    "core_fam_smol = core_fam.sample(2000)\n",
    "near_vacant_sites = getNearDataframe(core_fam, core, \"vacant\", \"near_vacant_sites\")\n",
    "\n",
    "    \n"
   ]
  },
  {
   "cell_type": "code",
   "execution_count": null,
   "metadata": {},
   "outputs": [],
   "source": [
    "def property_kind(property_class, property_use):\n",
    "    if(not isinstance(property_use, str)):\n",
    "        print(\"uncategorized\", property_class, property_use)\n",
    "        return \"uncategorized\"\n",
    "    if(property_class == \"Residential\" and property_use == \"Single family\"):\n",
    "        return \"single_family_home\"\n",
    "    if(property_class == \"Residential\" and property_use == \"Condominium\"):\n",
    "        return \"condo\"\n",
    "    if(property_class == \"Industrial\" and property_use == \"Manufacturing\"):\n",
    "        return \"industrial\"\n",
    "    if(property_class == \"Agricultural\" and property_use == \"Agricultural\"):\n",
    "        return \"agricultural\"\n",
    "    if(\"unit\" in property_use.lower()):\n",
    "        return \"multi_unit\"\n",
    "    if(\"vacant\" in property_use.lower()):\n",
    "        return \"vacant\"\n",
    "    if(property_class == \"Commercial\"):\n",
    "        return \"commercial\"\n",
    "    print(\"uncategorized\", property_class, property_use)\n",
    "    return \"uncategorized\"\n",
    "\n",
    "property_kind_df = pd.DataFrame(columns=[\"Parcel\", \"property_kind\"])\n",
    "property_kind_df.set_index(\"Parcel\")\n",
    "\n",
    "row_num = 0\n",
    "for i, parcel_record in raw.iterrows():\n",
    "    if(row_num % 4000 == 0):\n",
    "        print(row_num / 80500)\n",
    "    row_num += 1\n",
    "    #print(i, parcel_record[\"PropertyClass\"], parcel_record[\"PropertyUse\"])\n",
    "    kind = property_kind(parcel_record[\"PropertyClass\"], parcel_record[\"PropertyUse\"])\n",
    "    record = {\"Parcel\": i, \"property_kind\": kind}\n",
    "    property_kind_df = property_kind_df.append(record, ignore_index=True)\n",
    "property_kind_df\n",
    "\n"
   ]
  }
 ]
}