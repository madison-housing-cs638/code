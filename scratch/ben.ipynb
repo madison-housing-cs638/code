{
 "metadata": {
  "language_info": {
   "codemirror_mode": {
    "name": "ipython",
    "version": 3
   },
   "file_extension": ".py",
   "mimetype": "text/x-python",
   "name": "python",
   "nbconvert_exporter": "python",
   "pygments_lexer": "ipython3",
   "version": "3.8.5-final"
  },
  "orig_nbformat": 2,
  "kernelspec": {
   "name": "Python 3.8.5 64-bit ('libraries': conda)",
   "display_name": "Python 3.8.5 64-bit ('libraries': conda)",
   "metadata": {
    "interpreter": {
     "hash": "7058aa9ac94fdffa88a86be7393e8aac4ce5148d9e3a21ce07e0a53fa9cba59d"
    }
   }
  }
 },
 "nbformat": 4,
 "nbformat_minor": 2,
 "cells": [
  {
   "cell_type": "code",
   "execution_count": 10,
   "metadata": {},
   "outputs": [],
   "source": [
    "import os\n",
    "import urllib3\n",
    "import pandas as pd"
   ]
  },
  {
   "cell_type": "code",
   "execution_count": 21,
   "metadata": {},
   "outputs": [],
   "source": [
    "def download_file(url, path):\n",
    "    chunk_size = 255\n",
    "\n",
    "    http = urllib3.PoolManager()\n",
    "    r = http.request('GET', url, preload_content=False)\n",
    "\n",
    "    with open(path, 'wb') as out:\n",
    "        while True:\n",
    "            data = r.read(chunk_size)\n",
    "            if not data:\n",
    "                break\n",
    "            out.write(data)\n",
    "\n",
    "    r.release_conn()"
   ]
  },
  {
   "cell_type": "code",
   "execution_count": 25,
   "metadata": {
    "tags": []
   },
   "outputs": [],
   "source": [
    "DATA_PATH = 'temp_data'\n",
    "\n",
    "DATASETS = {\n",
    "  \"all_parcel_raw.csv\": \"https://raw.githubusercontent.com/madison-housing-cs638/data/master/all_parcel_raw.csv\",\n",
    "  \"all_parcel_assessments.csv\": \"https://raw.githubusercontent.com/madison-housing-cs638/data/master/all_parcel_assessments.csv\",\n",
    "  \"all_parcel_names.csv\": \"https://raw.githubusercontent.com/madison-housing-cs638/data/master/all_parcel_names.csv\",\n",
    "  \"all_parcel_sales.csv\": \"https://raw.githubusercontent.com/madison-housing-cs638/data/master/all_parcel_sales.csv\",\n",
    "}\n",
    "\n",
    "\n",
    "def download_datasets():\n",
    "  for f in DATASETS:\n",
    "      filePath = os.path.join(os.pardir, DATA_PATH, f)\n",
    "      fileUrl = DATASETS[f]\n",
    "      download_file(fileUrl, filePath)\n",
    "download_datasets()"
   ]
  },
  {
   "cell_type": "code",
   "execution_count": 27,
   "metadata": {},
   "outputs": [
    {
     "output_type": "execute_result",
     "data": {
      "text/plain": "(            Parcel  Year  Land_Assessment  Improvement_Assessment  \\\n 0                0  2020                0                       0   \n 1      60802307997  2019                0                    5000   \n 2      70835124359  2019              500                    1500   \n 3      60802112023  2019            86200                  201200   \n 4      70813307183  2019           114200                  267200   \n ...            ...   ...              ...                     ...   \n 80062  81028119320  2019             8700                   67000   \n 80063  70816324019  2019            94000                  348800   \n 80064  80924427043  2019             8600                  166800   \n 80065  70833119154  2019                0                       0   \n 80066  70923413987  2019                0                    5000   \n \n        Total_Assessment  \n 0                     0  \n 1                  5000  \n 2                  2000  \n 3                287400  \n 4                381400  \n ...                 ...  \n 80062             75700  \n 80063            442800  \n 80064            175400  \n 80065                 0  \n 80066              5000  \n \n [80067 rows x 5 columns],\n             Parcel                                             Owners\n 0                0                                              Tyler\n 1      60802307997               DOBRICK, ROGER H  & MARCIA M DOBRICK\n 2      70835124359          LENNON, BRIDGET  DANIELLE & DECLAN LENNON\n 3      60802112023                          DEGENHARDT, DAVID & LINDA\n 4      70813307183    BORSODI, JEFFREY ROBERT  & KATHLEEN ANN METZGER\n ...            ...                                                ...\n 80062  81028119320                                 MORENO, MITCHAEL M\n 80063  70816324019                                 LONSDORF, DANIEL W\n 80064  80924427043                                     SVOBODA, KAY E\n 80065  70833119154  HOLLEY DEVELOPMENT LLC  ATTN PINEHILL FARM HMOWNR\n 80066  70923413987                           BANASZAK TRUST, GABRIELE\n \n [80067 rows x 2 columns])"
     },
     "metadata": {},
     "execution_count": 27
    }
   ],
   "source": [
    "def load_csv_datasets(*datasets): #Returns a tupple of pandas dataframes.\n",
    "    result = []\n",
    "    for datasetName in datasets:\n",
    "        fullPath = os.path.join(os.pardir, DATA_PATH, datasetName + '.csv')\n",
    "        df = pd.read_csv(fullPath)\n",
    "        result.append(df)\n",
    "    return tuple(result)\n"
   ]
  },
  {
   "cell_type": "code",
   "execution_count": 23,
   "metadata": {},
   "outputs": [
    {
     "output_type": "execute_result",
     "data": {
      "text/plain": "(1, 2, 3, 4)"
     },
     "metadata": {},
     "execution_count": 23
    }
   ],
   "source": [
    "l = [1, 2, 3, 4]\n",
    "tuple(l)\n",
    "\n"
   ]
  },
  {
   "cell_type": "code",
   "execution_count": null,
   "metadata": {},
   "outputs": [],
   "source": []
  }
 ]
}