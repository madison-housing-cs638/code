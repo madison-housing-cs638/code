{
 "metadata": {
  "language_info": {
   "codemirror_mode": {
    "name": "ipython",
    "version": 3
   },
   "file_extension": ".py",
   "mimetype": "text/x-python",
   "name": "python",
   "nbconvert_exporter": "python",
   "pygments_lexer": "ipython3",
   "version": "3.8.2-final"
  },
  "orig_nbformat": 2,
  "kernelspec": {
   "name": "Python 3.8.2 64-bit ('housing': conda)",
   "display_name": "Python 3.8.2 64-bit ('housing': conda)",
   "metadata": {
    "interpreter": {
     "hash": "25fcd188946dac88c9eb1e405eda02affa4aeb7fb16dc0201f675caa1355facd"
    }
   }
  }
 },
 "nbformat": 4,
 "nbformat_minor": 2,
 "cells": [
  {
   "cell_type": "code",
   "execution_count": 1,
   "metadata": {},
   "outputs": [
    {
     "output_type": "stream",
     "name": "stdout",
     "text": [
      "['DATASETS', 'DATA_PATH', '__builtins__', '__cached__', '__doc__', '__file__', '__loader__', '__name__', '__package__', '__spec__', 'download_datasets', 'download_file', 'load_csv_datasets', 'os', 'pd', 'urllib3']\n"
     ]
    }
   ],
   "source": [
    "import random\n",
    "import os\n",
    "import urllib3\n",
    "import pandas as pd\n",
    "from pandas import Series\n",
    "import geopandas as gpd\n",
    "from geopy import distance\n",
    "import matplotlib.pyplot as plt\n",
    "import numpy as np\n",
    "import seaborn as sns\n",
    "import imageio\n",
    "from matplotlib.lines import Line2D\n",
    "\n",
    "COMMON_DIR = os.path.join(os.pardir, 'common')\n",
    "sys.path.insert(1, COMMON_DIR)\n",
    "\n",
    "import data_retreiver\n",
    "import time_adjusted_price as money\n",
    "print(dir(data_retreiver))\n",
    "from datetime import date"
   ]
  },
  {
   "cell_type": "code",
   "execution_count": 2,
   "metadata": {},
   "outputs": [],
   "source": [
    "data_retreiver.download_datasets()"
   ]
  },
  {
   "cell_type": "code",
   "execution_count": 3,
   "metadata": {},
   "outputs": [
    {
     "output_type": "execute_result",
     "data": {
      "text/plain": [
       "                   Date                                            Buyer  \\\n",
       "Parcel                                                                     \n",
       "81034103127  2005-06-01                 LESH, RICHARD L, & PAMELA M LESH   \n",
       "81034103127  1996-02-01                                  REAMER & RIVERA   \n",
       "70824219096  2016-11-01  HUNT, FREDERICK AARON, LISA M ASHENBRENNER HUNT   \n",
       "70824219096  2004-07-01                            ALLEN, CHARLES DWIGHT   \n",
       "70824219096  1994-03-01                               TURGESON & WEHRMAN   \n",
       "...                 ...                                              ...   \n",
       "70913111294  1997-07-01                             DOOLITTLE & HOPPMANN   \n",
       "70913111294  1994-11-01                          JACKSON, DANIEL & HOLLY   \n",
       "70913111294  1990-03-01                            NORTHWOOD INVESTMENTS   \n",
       "71014209053  1993-10-01                                ARMSTRONG, JOHN T   \n",
       "71014209053  1990-08-01                                  DAHLEN, IRENE R   \n",
       "\n",
       "                                          Seller     Price           Kind  \\\n",
       "Parcel                                                                      \n",
       "81034103127   REAMER, BRIAN H, & CARMEN E RIVERA  219900.0  Warranty Deed   \n",
       "81034103127                       SIMON INC, DON  137000.0  Warranty Deed   \n",
       "70824219096                ALLEN, CHARLES DWIGHT  324100.0  Warranty Deed   \n",
       "70824219096  TRUGESON, JAMES F, & KAY M TURGESON  324000.0  Warranty Deed   \n",
       "70824219096               TURGESON, JOHN & SALLY  100000.0  Warranty Deed   \n",
       "...                                          ...       ...            ...   \n",
       "70913111294              JACKSON, DANIEL & HOLLY   70000.0  Warranty Deed   \n",
       "70913111294                NORTHWOOD INVESTMENTS   62000.0  Warranty Deed   \n",
       "70913111294                     SWENSON, LUCILLE   32000.0          Other   \n",
       "71014209053                      DAHLEN, IRENE R  100000.0  Warranty Deed   \n",
       "71014209053                       SIMON INC, DON   87980.0  Warranty Deed   \n",
       "\n",
       "            Conveyance_Included  Year  Price_Inflated  Price_Time_Adjusted  \n",
       "Parcel                                                                      \n",
       "81034103127            1 Parcel  2005        292467.0             316441.0  \n",
       "81034103127            1 Parcel  1996        227420.0             340113.0  \n",
       "70824219096            1 Parcel  2016        350028.0             396828.0  \n",
       "70824219096            1 Parcel  2004        447120.0             468840.0  \n",
       "70824219096            1 Parcel  1994        175000.0             293750.0  \n",
       "...                         ...   ...             ...                  ...  \n",
       "70913111294            1 Parcel  1997        113400.0             225162.0  \n",
       "70913111294            1 Parcel  1994        108500.0             227250.0  \n",
       "70913111294            1 Parcel  1990         63680.0             224410.0  \n",
       "71014209053            1 Parcel  1993        180000.0             315180.0  \n",
       "71014209053            1 Parcel  1990        175080.2             335810.2  \n",
       "\n",
       "[131908 rows x 9 columns]"
      ],
      "text/html": "<div>\n<style scoped>\n    .dataframe tbody tr th:only-of-type {\n        vertical-align: middle;\n    }\n\n    .dataframe tbody tr th {\n        vertical-align: top;\n    }\n\n    .dataframe thead th {\n        text-align: right;\n    }\n</style>\n<table border=\"1\" class=\"dataframe\">\n  <thead>\n    <tr style=\"text-align: right;\">\n      <th></th>\n      <th>Date</th>\n      <th>Buyer</th>\n      <th>Seller</th>\n      <th>Price</th>\n      <th>Kind</th>\n      <th>Conveyance_Included</th>\n      <th>Year</th>\n      <th>Price_Inflated</th>\n      <th>Price_Time_Adjusted</th>\n    </tr>\n    <tr>\n      <th>Parcel</th>\n      <th></th>\n      <th></th>\n      <th></th>\n      <th></th>\n      <th></th>\n      <th></th>\n      <th></th>\n      <th></th>\n      <th></th>\n    </tr>\n  </thead>\n  <tbody>\n    <tr>\n      <th>81034103127</th>\n      <td>2005-06-01</td>\n      <td>LESH, RICHARD L, &amp; PAMELA M LESH</td>\n      <td>REAMER, BRIAN H, &amp; CARMEN E RIVERA</td>\n      <td>219900.0</td>\n      <td>Warranty Deed</td>\n      <td>1 Parcel</td>\n      <td>2005</td>\n      <td>292467.0</td>\n      <td>316441.0</td>\n    </tr>\n    <tr>\n      <th>81034103127</th>\n      <td>1996-02-01</td>\n      <td>REAMER &amp; RIVERA</td>\n      <td>SIMON INC, DON</td>\n      <td>137000.0</td>\n      <td>Warranty Deed</td>\n      <td>1 Parcel</td>\n      <td>1996</td>\n      <td>227420.0</td>\n      <td>340113.0</td>\n    </tr>\n    <tr>\n      <th>70824219096</th>\n      <td>2016-11-01</td>\n      <td>HUNT, FREDERICK AARON, LISA M ASHENBRENNER HUNT</td>\n      <td>ALLEN, CHARLES DWIGHT</td>\n      <td>324100.0</td>\n      <td>Warranty Deed</td>\n      <td>1 Parcel</td>\n      <td>2016</td>\n      <td>350028.0</td>\n      <td>396828.0</td>\n    </tr>\n    <tr>\n      <th>70824219096</th>\n      <td>2004-07-01</td>\n      <td>ALLEN, CHARLES DWIGHT</td>\n      <td>TRUGESON, JAMES F, &amp; KAY M TURGESON</td>\n      <td>324000.0</td>\n      <td>Warranty Deed</td>\n      <td>1 Parcel</td>\n      <td>2004</td>\n      <td>447120.0</td>\n      <td>468840.0</td>\n    </tr>\n    <tr>\n      <th>70824219096</th>\n      <td>1994-03-01</td>\n      <td>TURGESON &amp; WEHRMAN</td>\n      <td>TURGESON, JOHN &amp; SALLY</td>\n      <td>100000.0</td>\n      <td>Warranty Deed</td>\n      <td>1 Parcel</td>\n      <td>1994</td>\n      <td>175000.0</td>\n      <td>293750.0</td>\n    </tr>\n    <tr>\n      <th>...</th>\n      <td>...</td>\n      <td>...</td>\n      <td>...</td>\n      <td>...</td>\n      <td>...</td>\n      <td>...</td>\n      <td>...</td>\n      <td>...</td>\n      <td>...</td>\n    </tr>\n    <tr>\n      <th>70913111294</th>\n      <td>1997-07-01</td>\n      <td>DOOLITTLE &amp; HOPPMANN</td>\n      <td>JACKSON, DANIEL &amp; HOLLY</td>\n      <td>70000.0</td>\n      <td>Warranty Deed</td>\n      <td>1 Parcel</td>\n      <td>1997</td>\n      <td>113400.0</td>\n      <td>225162.0</td>\n    </tr>\n    <tr>\n      <th>70913111294</th>\n      <td>1994-11-01</td>\n      <td>JACKSON, DANIEL &amp; HOLLY</td>\n      <td>NORTHWOOD INVESTMENTS</td>\n      <td>62000.0</td>\n      <td>Warranty Deed</td>\n      <td>1 Parcel</td>\n      <td>1994</td>\n      <td>108500.0</td>\n      <td>227250.0</td>\n    </tr>\n    <tr>\n      <th>70913111294</th>\n      <td>1990-03-01</td>\n      <td>NORTHWOOD INVESTMENTS</td>\n      <td>SWENSON, LUCILLE</td>\n      <td>32000.0</td>\n      <td>Other</td>\n      <td>1 Parcel</td>\n      <td>1990</td>\n      <td>63680.0</td>\n      <td>224410.0</td>\n    </tr>\n    <tr>\n      <th>71014209053</th>\n      <td>1993-10-01</td>\n      <td>ARMSTRONG, JOHN T</td>\n      <td>DAHLEN, IRENE R</td>\n      <td>100000.0</td>\n      <td>Warranty Deed</td>\n      <td>1 Parcel</td>\n      <td>1993</td>\n      <td>180000.0</td>\n      <td>315180.0</td>\n    </tr>\n    <tr>\n      <th>71014209053</th>\n      <td>1990-08-01</td>\n      <td>DAHLEN, IRENE R</td>\n      <td>SIMON INC, DON</td>\n      <td>87980.0</td>\n      <td>Warranty Deed</td>\n      <td>1 Parcel</td>\n      <td>1990</td>\n      <td>175080.2</td>\n      <td>335810.2</td>\n    </tr>\n  </tbody>\n</table>\n<p>131908 rows × 9 columns</p>\n</div>"
     },
     "metadata": {},
     "execution_count": 3
    }
   ],
   "source": [
    "(fam_sales, fam_core, year_sales) = data_retreiver.load_csv_datasets(\"single_family_sales\", \"single_family_core\", \"year_sales\")\n",
    "\n",
    "fam_sales_g0 = fam_sales[fam_sales[\"Price_Time_Adjusted\"] > 0]\n",
    "fam_sales_g0 = fam_sales_g0[fam_sales_g0[\"Conveyance_Included\"] == \"1 Parcel\"]\n",
    "fam_sales_g0"
   ]
  },
  {
   "cell_type": "code",
   "execution_count": 6,
   "metadata": {
    "tags": []
   },
   "outputs": [],
   "source": [
    "def prices_for_parcel(parcel, sales_df):\n",
    "    sales_for_parcel = sales_df[sales_df.index == parcel]\n",
    "    return sales_for_parcel\n",
    "\n",
    "num_run = 0\n",
    "def price_growth_coefficient(parcel, sales_df):\n",
    "    global num_run\n",
    "    num_run += 1\n",
    "    if(num_run % 500 == 0):\n",
    "        print(num_run)\n",
    "    sales_for_parcel = prices_for_parcel(parcel, sales_df)\n",
    "\n",
    "    if(len(sales_for_parcel) < 2):\n",
    "        return np.nan\n",
    "\n",
    "    linear_coefficients = np.polyfit(sales_for_parcel[\"Year\"], sales_for_parcel[\"Price_Time_Adjusted\"].values, deg=1)\n",
    "    slope = linear_coefficients[0]\n",
    "    if(slope > 40000):\n",
    "        slope = np.nan\n",
    "    elif(slope < -30000):\n",
    "        slope = np.nan\n",
    "    return slope\n",
    "\n",
    "#hmm = fam_core.index.to_series().apply(lambda pid: price_growth_coefficient(pid, fam_sales_g0))"
   ]
  },
  {
   "cell_type": "code",
   "execution_count": 64,
   "metadata": {},
   "outputs": [
    {
     "output_type": "stream",
     "name": "stdout",
     "text": [
      "\n"
     ]
    },
    {
     "output_type": "display_data",
     "data": {
      "text/plain": "<Figure size 432x288 with 1 Axes>",
      "image/svg+xml": "<?xml version=\"1.0\" encoding=\"utf-8\" standalone=\"no\"?>\n<!DOCTYPE svg PUBLIC \"-//W3C//DTD SVG 1.1//EN\"\n  \"http://www.w3.org/Graphics/SVG/1.1/DTD/svg11.dtd\">\n<!-- Created with matplotlib (https://matplotlib.org/) -->\n<svg height=\"248.518125pt\" version=\"1.1\" viewBox=\"0 0 397.55625 248.518125\" width=\"397.55625pt\" xmlns=\"http://www.w3.org/2000/svg\" xmlns:xlink=\"http://www.w3.org/1999/xlink\">\n <metadata>\n  <rdf:RDF xmlns:cc=\"http://creativecommons.org/ns#\" xmlns:dc=\"http://purl.org/dc/elements/1.1/\" xmlns:rdf=\"http://www.w3.org/1999/02/22-rdf-syntax-ns#\">\n   <cc:Work>\n    <dc:type rdf:resource=\"http://purl.org/dc/dcmitype/StillImage\"/>\n    <dc:date>2020-10-22T14:19:56.773916</dc:date>\n    <dc:format>image/svg+xml</dc:format>\n    <dc:creator>\n     <cc:Agent>\n      <dc:title>Matplotlib v3.3.1, https://matplotlib.org/</dc:title>\n     </cc:Agent>\n    </dc:creator>\n   </cc:Work>\n  </rdf:RDF>\n </metadata>\n <defs>\n  <style type=\"text/css\">*{stroke-linecap:butt;stroke-linejoin:round;}</style>\n </defs>\n <g id=\"figure_1\">\n  <g id=\"patch_1\">\n   <path d=\"M -0 248.518125 \nL 397.55625 248.518125 \nL 397.55625 0 \nL -0 0 \nz\n\" style=\"fill:none;\"/>\n  </g>\n  <g id=\"axes_1\">\n   <g id=\"patch_2\">\n    <path d=\"M 39.65 224.64 \nL 374.45 224.64 \nL 374.45 7.2 \nL 39.65 7.2 \nz\n\" style=\"fill:#ffffff;\"/>\n   </g>\n   <g id=\"patch_3\">\n    <path clip-path=\"url(#pd9cbe8e7d2)\" d=\"M 91.207478 224.64 \nL 94.807256 224.64 \nL 94.807256 223.614998 \nL 91.207478 223.614998 \nz\n\" style=\"fill:#1f77b4;\"/>\n   </g>\n   <g id=\"patch_4\">\n    <path clip-path=\"url(#pd9cbe8e7d2)\" d=\"M 94.807256 224.64 \nL 98.407034 224.64 \nL 98.407034 223.685688 \nL 94.807256 223.685688 \nz\n\" style=\"fill:#1f77b4;\"/>\n   </g>\n   <g id=\"patch_5\">\n    <path clip-path=\"url(#pd9cbe8e7d2)\" d=\"M 98.407034 224.64 \nL 102.006812 224.64 \nL 102.006812 223.508963 \nL 98.407034 223.508963 \nz\n\" style=\"fill:#1f77b4;\"/>\n   </g>\n   <g id=\"patch_6\">\n    <path clip-path=\"url(#pd9cbe8e7d2)\" d=\"M 102.006812 224.64 \nL 105.606591 224.64 \nL 105.606591 223.261549 \nL 102.006812 223.261549 \nz\n\" style=\"fill:#1f77b4;\"/>\n   </g>\n   <g id=\"patch_7\">\n    <path clip-path=\"url(#pd9cbe8e7d2)\" d=\"M 105.606591 224.64 \nL 109.206369 224.64 \nL 109.206369 223.261549 \nL 105.606591 223.261549 \nz\n\" style=\"fill:#1f77b4;\"/>\n   </g>\n   <g id=\"patch_8\">\n    <path clip-path=\"url(#pd9cbe8e7d2)\" d=\"M 109.206369 224.64 \nL 112.806147 224.64 \nL 112.806147 223.438274 \nL 109.206369 223.438274 \nz\n\" style=\"fill:#1f77b4;\"/>\n   </g>\n   <g id=\"patch_9\">\n    <path clip-path=\"url(#pd9cbe8e7d2)\" d=\"M 112.806147 224.64 \nL 116.405926 224.64 \nL 116.405926 223.155515 \nL 112.806147 223.155515 \nz\n\" style=\"fill:#1f77b4;\"/>\n   </g>\n   <g id=\"patch_10\">\n    <path clip-path=\"url(#pd9cbe8e7d2)\" d=\"M 116.405926 224.64 \nL 120.005704 224.64 \nL 120.005704 222.9081 \nL 116.405926 222.9081 \nz\n\" style=\"fill:#1f77b4;\"/>\n   </g>\n   <g id=\"patch_11\">\n    <path clip-path=\"url(#pd9cbe8e7d2)\" d=\"M 120.005704 224.64 \nL 123.605482 224.64 \nL 123.605482 222.236547 \nL 120.005704 222.236547 \nz\n\" style=\"fill:#1f77b4;\"/>\n   </g>\n   <g id=\"patch_12\">\n    <path clip-path=\"url(#pd9cbe8e7d2)\" d=\"M 123.605482 224.64 \nL 127.205261 224.64 \nL 127.205261 221.918443 \nL 123.605482 221.918443 \nz\n\" style=\"fill:#1f77b4;\"/>\n   </g>\n   <g id=\"patch_13\">\n    <path clip-path=\"url(#pd9cbe8e7d2)\" d=\"M 127.205261 224.64 \nL 130.805039 224.64 \nL 130.805039 220.822752 \nL 127.205261 220.822752 \nz\n\" style=\"fill:#1f77b4;\"/>\n   </g>\n   <g id=\"patch_14\">\n    <path clip-path=\"url(#pd9cbe8e7d2)\" d=\"M 130.805039 224.64 \nL 134.404817 224.64 \nL 134.404817 221.45896 \nL 130.805039 221.45896 \nz\n\" style=\"fill:#1f77b4;\"/>\n   </g>\n   <g id=\"patch_15\">\n    <path clip-path=\"url(#pd9cbe8e7d2)\" d=\"M 134.404817 224.64 \nL 138.004595 224.64 \nL 138.004595 220.292578 \nL 134.404817 220.292578 \nz\n\" style=\"fill:#1f77b4;\"/>\n   </g>\n   <g id=\"patch_16\">\n    <path clip-path=\"url(#pd9cbe8e7d2)\" d=\"M 138.004595 224.64 \nL 141.604374 224.64 \nL 141.604374 219.161542 \nL 138.004595 219.161542 \nz\n\" style=\"fill:#1f77b4;\"/>\n   </g>\n   <g id=\"patch_17\">\n    <path clip-path=\"url(#pd9cbe8e7d2)\" d=\"M 141.604374 224.64 \nL 145.204152 224.64 \nL 145.204152 217.500332 \nL 141.604374 217.500332 \nz\n\" style=\"fill:#1f77b4;\"/>\n   </g>\n   <g id=\"patch_18\">\n    <path clip-path=\"url(#pd9cbe8e7d2)\" d=\"M 145.204152 224.64 \nL 148.80393 224.64 \nL 148.80393 214.248602 \nL 145.204152 214.248602 \nz\n\" style=\"fill:#1f77b4;\"/>\n   </g>\n   <g id=\"patch_19\">\n    <path clip-path=\"url(#pd9cbe8e7d2)\" d=\"M 148.80393 224.64 \nL 152.403709 224.64 \nL 152.403709 208.169281 \nL 148.80393 208.169281 \nz\n\" style=\"fill:#1f77b4;\"/>\n   </g>\n   <g id=\"patch_20\">\n    <path clip-path=\"url(#pd9cbe8e7d2)\" d=\"M 152.403709 224.64 \nL 156.003487 224.64 \nL 156.003487 197.283055 \nL 152.403709 197.283055 \nz\n\" style=\"fill:#1f77b4;\"/>\n   </g>\n   <g id=\"patch_21\">\n    <path clip-path=\"url(#pd9cbe8e7d2)\" d=\"M 156.003487 224.64 \nL 159.603265 224.64 \nL 159.603265 167.451967 \nL 156.003487 167.451967 \nz\n\" style=\"fill:#1f77b4;\"/>\n   </g>\n   <g id=\"patch_22\">\n    <path clip-path=\"url(#pd9cbe8e7d2)\" d=\"M 159.603265 224.64 \nL 163.203043 224.64 \nL 163.203043 83.154403 \nL 159.603265 83.154403 \nz\n\" style=\"fill:#1f77b4;\"/>\n   </g>\n   <g id=\"patch_23\">\n    <path clip-path=\"url(#pd9cbe8e7d2)\" d=\"M 163.203043 224.64 \nL 166.802822 224.64 \nL 166.802822 17.554286 \nL 163.203043 17.554286 \nz\n\" style=\"fill:#1f77b4;\"/>\n   </g>\n   <g id=\"patch_24\">\n    <path clip-path=\"url(#pd9cbe8e7d2)\" d=\"M 166.802822 224.64 \nL 170.4026 224.64 \nL 170.4026 49.470722 \nL 166.802822 49.470722 \nz\n\" style=\"fill:#1f77b4;\"/>\n   </g>\n   <g id=\"patch_25\">\n    <path clip-path=\"url(#pd9cbe8e7d2)\" d=\"M 170.4026 224.64 \nL 174.002378 224.64 \nL 174.002378 119.029467 \nL 170.4026 119.029467 \nz\n\" style=\"fill:#1f77b4;\"/>\n   </g>\n   <g id=\"patch_26\">\n    <path clip-path=\"url(#pd9cbe8e7d2)\" d=\"M 174.002378 224.64 \nL 177.602157 224.64 \nL 177.602157 149.072624 \nL 174.002378 149.072624 \nz\n\" style=\"fill:#1f77b4;\"/>\n   </g>\n   <g id=\"patch_27\">\n    <path clip-path=\"url(#pd9cbe8e7d2)\" d=\"M 177.602157 224.64 \nL 181.201935 224.64 \nL 181.201935 172.294217 \nL 177.602157 172.294217 \nz\n\" style=\"fill:#1f77b4;\"/>\n   </g>\n   <g id=\"patch_28\">\n    <path clip-path=\"url(#pd9cbe8e7d2)\" d=\"M 181.201935 224.64 \nL 184.801713 224.64 \nL 184.801713 183.816651 \nL 181.201935 183.816651 \nz\n\" style=\"fill:#1f77b4;\"/>\n   </g>\n   <g id=\"patch_29\">\n    <path clip-path=\"url(#pd9cbe8e7d2)\" d=\"M 184.801713 224.64 \nL 188.401492 224.64 \nL 188.401492 196.505467 \nL 184.801713 196.505467 \nz\n\" style=\"fill:#1f77b4;\"/>\n   </g>\n   <g id=\"patch_30\">\n    <path clip-path=\"url(#pd9cbe8e7d2)\" d=\"M 188.401492 224.64 \nL 192.00127 224.64 \nL 192.00127 202.478754 \nL 188.401492 202.478754 \nz\n\" style=\"fill:#1f77b4;\"/>\n   </g>\n   <g id=\"patch_31\">\n    <path clip-path=\"url(#pd9cbe8e7d2)\" d=\"M 192.00127 224.64 \nL 195.601048 224.64 \nL 195.601048 208.133936 \nL 192.00127 208.133936 \nz\n\" style=\"fill:#1f77b4;\"/>\n   </g>\n   <g id=\"patch_32\">\n    <path clip-path=\"url(#pd9cbe8e7d2)\" d=\"M 195.601048 224.64 \nL 199.200826 224.64 \nL 199.200826 211.350321 \nL 195.601048 211.350321 \nz\n\" style=\"fill:#1f77b4;\"/>\n   </g>\n   <g id=\"patch_33\">\n    <path clip-path=\"url(#pd9cbe8e7d2)\" d=\"M 199.200826 224.64 \nL 202.800605 224.64 \nL 202.800605 213.647739 \nL 199.200826 213.647739 \nz\n\" style=\"fill:#1f77b4;\"/>\n   </g>\n   <g id=\"patch_34\">\n    <path clip-path=\"url(#pd9cbe8e7d2)\" d=\"M 202.800605 224.64 \nL 206.400383 224.64 \nL 206.400383 214.778776 \nL 202.800605 214.778776 \nz\n\" style=\"fill:#1f77b4;\"/>\n   </g>\n   <g id=\"patch_35\">\n    <path clip-path=\"url(#pd9cbe8e7d2)\" d=\"M 206.400383 224.64 \nL 210.000161 224.64 \nL 210.000161 215.803777 \nL 206.400383 215.803777 \nz\n\" style=\"fill:#1f77b4;\"/>\n   </g>\n   <g id=\"patch_36\">\n    <path clip-path=\"url(#pd9cbe8e7d2)\" d=\"M 210.000161 224.64 \nL 213.59994 224.64 \nL 213.59994 218.419299 \nL 210.000161 218.419299 \nz\n\" style=\"fill:#1f77b4;\"/>\n   </g>\n   <g id=\"patch_37\">\n    <path clip-path=\"url(#pd9cbe8e7d2)\" d=\"M 213.59994 224.64 \nL 217.199718 224.64 \nL 217.199718 219.514991 \nL 213.59994 219.514991 \nz\n\" style=\"fill:#1f77b4;\"/>\n   </g>\n   <g id=\"patch_38\">\n    <path clip-path=\"url(#pd9cbe8e7d2)\" d=\"M 217.199718 224.64 \nL 220.799496 224.64 \nL 220.799496 219.86844 \nL 217.199718 219.86844 \nz\n\" style=\"fill:#1f77b4;\"/>\n   </g>\n   <g id=\"patch_39\">\n    <path clip-path=\"url(#pd9cbe8e7d2)\" d=\"M 220.799496 224.64 \nL 224.399274 224.64 \nL 224.399274 220.257234 \nL 220.799496 220.257234 \nz\n\" style=\"fill:#1f77b4;\"/>\n   </g>\n   <g id=\"patch_40\">\n    <path clip-path=\"url(#pd9cbe8e7d2)\" d=\"M 224.399274 224.64 \nL 227.999053 224.64 \nL 227.999053 220.999476 \nL 224.399274 220.999476 \nz\n\" style=\"fill:#1f77b4;\"/>\n   </g>\n   <g id=\"patch_41\">\n    <path clip-path=\"url(#pd9cbe8e7d2)\" d=\"M 227.999053 224.64 \nL 231.598831 224.64 \nL 231.598831 221.564995 \nL 227.999053 221.564995 \nz\n\" style=\"fill:#1f77b4;\"/>\n   </g>\n   <g id=\"patch_42\">\n    <path clip-path=\"url(#pd9cbe8e7d2)\" d=\"M 231.598831 224.64 \nL 235.198609 224.64 \nL 235.198609 222.342582 \nL 231.598831 222.342582 \nz\n\" style=\"fill:#1f77b4;\"/>\n   </g>\n   <g id=\"patch_43\">\n    <path clip-path=\"url(#pd9cbe8e7d2)\" d=\"M 235.198609 224.64 \nL 238.798388 224.64 \nL 238.798388 221.918443 \nL 235.198609 221.918443 \nz\n\" style=\"fill:#1f77b4;\"/>\n   </g>\n   <g id=\"patch_44\">\n    <path clip-path=\"url(#pd9cbe8e7d2)\" d=\"M 238.798388 224.64 \nL 242.398166 224.64 \nL 242.398166 222.554651 \nL 238.798388 222.554651 \nz\n\" style=\"fill:#1f77b4;\"/>\n   </g>\n   <g id=\"patch_45\">\n    <path clip-path=\"url(#pd9cbe8e7d2)\" d=\"M 242.398166 224.64 \nL 245.997944 224.64 \nL 245.997944 222.413272 \nL 242.398166 222.413272 \nz\n\" style=\"fill:#1f77b4;\"/>\n   </g>\n   <g id=\"patch_46\">\n    <path clip-path=\"url(#pd9cbe8e7d2)\" d=\"M 245.997944 224.64 \nL 249.597723 224.64 \nL 249.597723 222.731376 \nL 245.997944 222.731376 \nz\n\" style=\"fill:#1f77b4;\"/>\n   </g>\n   <g id=\"patch_47\">\n    <path clip-path=\"url(#pd9cbe8e7d2)\" d=\"M 249.597723 224.64 \nL 253.197501 224.64 \nL 253.197501 222.589996 \nL 249.597723 222.589996 \nz\n\" style=\"fill:#1f77b4;\"/>\n   </g>\n   <g id=\"patch_48\">\n    <path clip-path=\"url(#pd9cbe8e7d2)\" d=\"M 253.197501 224.64 \nL 256.797279 224.64 \nL 256.797279 223.04948 \nL 253.197501 223.04948 \nz\n\" style=\"fill:#1f77b4;\"/>\n   </g>\n   <g id=\"patch_49\">\n    <path clip-path=\"url(#pd9cbe8e7d2)\" d=\"M 256.797279 224.64 \nL 260.397057 224.64 \nL 260.397057 223.332239 \nL 256.797279 223.332239 \nz\n\" style=\"fill:#1f77b4;\"/>\n   </g>\n   <g id=\"patch_50\">\n    <path clip-path=\"url(#pd9cbe8e7d2)\" d=\"M 260.397057 224.64 \nL 263.996836 224.64 \nL 263.996836 222.837411 \nL 260.397057 222.837411 \nz\n\" style=\"fill:#1f77b4;\"/>\n   </g>\n   <g id=\"patch_51\">\n    <path clip-path=\"url(#pd9cbe8e7d2)\" d=\"M 263.996836 224.64 \nL 267.596614 224.64 \nL 267.596614 223.155515 \nL 263.996836 223.155515 \nz\n\" style=\"fill:#1f77b4;\"/>\n   </g>\n   <g id=\"patch_52\">\n    <path clip-path=\"url(#pd9cbe8e7d2)\" d=\"M 267.596614 224.64 \nL 271.196392 224.64 \nL 271.196392 223.190859 \nL 267.596614 223.190859 \nz\n\" style=\"fill:#1f77b4;\"/>\n   </g>\n   <g id=\"matplotlib.axis_1\">\n    <g id=\"xtick_1\">\n     <g id=\"line2d_1\">\n      <defs>\n       <path d=\"M 0 0 \nL 0 3.5 \n\" id=\"m4e69e6f39d\" style=\"stroke:#000000;stroke-width:0.8;\"/>\n      </defs>\n      <g>\n       <use style=\"stroke:#000000;stroke-width:0.8;\" x=\"65.403846\" xlink:href=\"#m4e69e6f39d\" y=\"224.64\"/>\n      </g>\n     </g>\n     <g id=\"text_1\">\n      <!-- −40000 -->\n      <g transform=\"translate(45.307752 239.238438)scale(0.1 -0.1)\">\n       <defs>\n        <path d=\"M 10.59375 35.5 \nL 73.1875 35.5 \nL 73.1875 27.203125 \nL 10.59375 27.203125 \nz\n\" id=\"DejaVuSans-8722\"/>\n        <path d=\"M 37.796875 64.3125 \nL 12.890625 25.390625 \nL 37.796875 25.390625 \nz\nM 35.203125 72.90625 \nL 47.609375 72.90625 \nL 47.609375 25.390625 \nL 58.015625 25.390625 \nL 58.015625 17.1875 \nL 47.609375 17.1875 \nL 47.609375 0 \nL 37.796875 0 \nL 37.796875 17.1875 \nL 4.890625 17.1875 \nL 4.890625 26.703125 \nz\n\" id=\"DejaVuSans-52\"/>\n        <path d=\"M 31.78125 66.40625 \nQ 24.171875 66.40625 20.328125 58.90625 \nQ 16.5 51.421875 16.5 36.375 \nQ 16.5 21.390625 20.328125 13.890625 \nQ 24.171875 6.390625 31.78125 6.390625 \nQ 39.453125 6.390625 43.28125 13.890625 \nQ 47.125 21.390625 47.125 36.375 \nQ 47.125 51.421875 43.28125 58.90625 \nQ 39.453125 66.40625 31.78125 66.40625 \nz\nM 31.78125 74.21875 \nQ 44.046875 74.21875 50.515625 64.515625 \nQ 56.984375 54.828125 56.984375 36.375 \nQ 56.984375 17.96875 50.515625 8.265625 \nQ 44.046875 -1.421875 31.78125 -1.421875 \nQ 19.53125 -1.421875 13.0625 8.265625 \nQ 6.59375 17.96875 6.59375 36.375 \nQ 6.59375 54.828125 13.0625 64.515625 \nQ 19.53125 74.21875 31.78125 74.21875 \nz\n\" id=\"DejaVuSans-48\"/>\n       </defs>\n       <use xlink:href=\"#DejaVuSans-8722\"/>\n       <use x=\"83.789062\" xlink:href=\"#DejaVuSans-52\"/>\n       <use x=\"147.412109\" xlink:href=\"#DejaVuSans-48\"/>\n       <use x=\"211.035156\" xlink:href=\"#DejaVuSans-48\"/>\n       <use x=\"274.658203\" xlink:href=\"#DejaVuSans-48\"/>\n       <use x=\"338.28125\" xlink:href=\"#DejaVuSans-48\"/>\n      </g>\n     </g>\n    </g>\n    <g id=\"xtick_2\">\n     <g id=\"line2d_2\">\n      <g>\n       <use style=\"stroke:#000000;stroke-width:0.8;\" x=\"116.911538\" xlink:href=\"#m4e69e6f39d\" y=\"224.64\"/>\n      </g>\n     </g>\n     <g id=\"text_2\">\n      <!-- −20000 -->\n      <g transform=\"translate(96.815445 239.238438)scale(0.1 -0.1)\">\n       <defs>\n        <path d=\"M 19.1875 8.296875 \nL 53.609375 8.296875 \nL 53.609375 0 \nL 7.328125 0 \nL 7.328125 8.296875 \nQ 12.9375 14.109375 22.625 23.890625 \nQ 32.328125 33.6875 34.8125 36.53125 \nQ 39.546875 41.84375 41.421875 45.53125 \nQ 43.3125 49.21875 43.3125 52.78125 \nQ 43.3125 58.59375 39.234375 62.25 \nQ 35.15625 65.921875 28.609375 65.921875 \nQ 23.96875 65.921875 18.8125 64.3125 \nQ 13.671875 62.703125 7.8125 59.421875 \nL 7.8125 69.390625 \nQ 13.765625 71.78125 18.9375 73 \nQ 24.125 74.21875 28.421875 74.21875 \nQ 39.75 74.21875 46.484375 68.546875 \nQ 53.21875 62.890625 53.21875 53.421875 \nQ 53.21875 48.921875 51.53125 44.890625 \nQ 49.859375 40.875 45.40625 35.40625 \nQ 44.1875 33.984375 37.640625 27.21875 \nQ 31.109375 20.453125 19.1875 8.296875 \nz\n\" id=\"DejaVuSans-50\"/>\n       </defs>\n       <use xlink:href=\"#DejaVuSans-8722\"/>\n       <use x=\"83.789062\" xlink:href=\"#DejaVuSans-50\"/>\n       <use x=\"147.412109\" xlink:href=\"#DejaVuSans-48\"/>\n       <use x=\"211.035156\" xlink:href=\"#DejaVuSans-48\"/>\n       <use x=\"274.658203\" xlink:href=\"#DejaVuSans-48\"/>\n       <use x=\"338.28125\" xlink:href=\"#DejaVuSans-48\"/>\n      </g>\n     </g>\n    </g>\n    <g id=\"xtick_3\">\n     <g id=\"line2d_3\">\n      <g>\n       <use style=\"stroke:#000000;stroke-width:0.8;\" x=\"168.419231\" xlink:href=\"#m4e69e6f39d\" y=\"224.64\"/>\n      </g>\n     </g>\n     <g id=\"text_3\">\n      <!-- 0 -->\n      <g transform=\"translate(165.237981 239.238438)scale(0.1 -0.1)\">\n       <use xlink:href=\"#DejaVuSans-48\"/>\n      </g>\n     </g>\n    </g>\n    <g id=\"xtick_4\">\n     <g id=\"line2d_4\">\n      <g>\n       <use style=\"stroke:#000000;stroke-width:0.8;\" x=\"219.926923\" xlink:href=\"#m4e69e6f39d\" y=\"224.64\"/>\n      </g>\n     </g>\n     <g id=\"text_4\">\n      <!-- 20000 -->\n      <g transform=\"translate(204.020673 239.238438)scale(0.1 -0.1)\">\n       <use xlink:href=\"#DejaVuSans-50\"/>\n       <use x=\"63.623047\" xlink:href=\"#DejaVuSans-48\"/>\n       <use x=\"127.246094\" xlink:href=\"#DejaVuSans-48\"/>\n       <use x=\"190.869141\" xlink:href=\"#DejaVuSans-48\"/>\n       <use x=\"254.492188\" xlink:href=\"#DejaVuSans-48\"/>\n      </g>\n     </g>\n    </g>\n    <g id=\"xtick_5\">\n     <g id=\"line2d_5\">\n      <g>\n       <use style=\"stroke:#000000;stroke-width:0.8;\" x=\"271.434615\" xlink:href=\"#m4e69e6f39d\" y=\"224.64\"/>\n      </g>\n     </g>\n     <g id=\"text_5\">\n      <!-- 40000 -->\n      <g transform=\"translate(255.528365 239.238438)scale(0.1 -0.1)\">\n       <use xlink:href=\"#DejaVuSans-52\"/>\n       <use x=\"63.623047\" xlink:href=\"#DejaVuSans-48\"/>\n       <use x=\"127.246094\" xlink:href=\"#DejaVuSans-48\"/>\n       <use x=\"190.869141\" xlink:href=\"#DejaVuSans-48\"/>\n       <use x=\"254.492188\" xlink:href=\"#DejaVuSans-48\"/>\n      </g>\n     </g>\n    </g>\n    <g id=\"xtick_6\">\n     <g id=\"line2d_6\">\n      <g>\n       <use style=\"stroke:#000000;stroke-width:0.8;\" x=\"322.942308\" xlink:href=\"#m4e69e6f39d\" y=\"224.64\"/>\n      </g>\n     </g>\n     <g id=\"text_6\">\n      <!-- 60000 -->\n      <g transform=\"translate(307.036058 239.238438)scale(0.1 -0.1)\">\n       <defs>\n        <path d=\"M 33.015625 40.375 \nQ 26.375 40.375 22.484375 35.828125 \nQ 18.609375 31.296875 18.609375 23.390625 \nQ 18.609375 15.53125 22.484375 10.953125 \nQ 26.375 6.390625 33.015625 6.390625 \nQ 39.65625 6.390625 43.53125 10.953125 \nQ 47.40625 15.53125 47.40625 23.390625 \nQ 47.40625 31.296875 43.53125 35.828125 \nQ 39.65625 40.375 33.015625 40.375 \nz\nM 52.59375 71.296875 \nL 52.59375 62.3125 \nQ 48.875 64.0625 45.09375 64.984375 \nQ 41.3125 65.921875 37.59375 65.921875 \nQ 27.828125 65.921875 22.671875 59.328125 \nQ 17.53125 52.734375 16.796875 39.40625 \nQ 19.671875 43.65625 24.015625 45.921875 \nQ 28.375 48.1875 33.59375 48.1875 \nQ 44.578125 48.1875 50.953125 41.515625 \nQ 57.328125 34.859375 57.328125 23.390625 \nQ 57.328125 12.15625 50.6875 5.359375 \nQ 44.046875 -1.421875 33.015625 -1.421875 \nQ 20.359375 -1.421875 13.671875 8.265625 \nQ 6.984375 17.96875 6.984375 36.375 \nQ 6.984375 53.65625 15.1875 63.9375 \nQ 23.390625 74.21875 37.203125 74.21875 \nQ 40.921875 74.21875 44.703125 73.484375 \nQ 48.484375 72.75 52.59375 71.296875 \nz\n\" id=\"DejaVuSans-54\"/>\n       </defs>\n       <use xlink:href=\"#DejaVuSans-54\"/>\n       <use x=\"63.623047\" xlink:href=\"#DejaVuSans-48\"/>\n       <use x=\"127.246094\" xlink:href=\"#DejaVuSans-48\"/>\n       <use x=\"190.869141\" xlink:href=\"#DejaVuSans-48\"/>\n       <use x=\"254.492188\" xlink:href=\"#DejaVuSans-48\"/>\n      </g>\n     </g>\n    </g>\n    <g id=\"xtick_7\">\n     <g id=\"line2d_7\">\n      <g>\n       <use style=\"stroke:#000000;stroke-width:0.8;\" x=\"374.45\" xlink:href=\"#m4e69e6f39d\" y=\"224.64\"/>\n      </g>\n     </g>\n     <g id=\"text_7\">\n      <!-- 80000 -->\n      <g transform=\"translate(358.54375 239.238438)scale(0.1 -0.1)\">\n       <defs>\n        <path d=\"M 31.78125 34.625 \nQ 24.75 34.625 20.71875 30.859375 \nQ 16.703125 27.09375 16.703125 20.515625 \nQ 16.703125 13.921875 20.71875 10.15625 \nQ 24.75 6.390625 31.78125 6.390625 \nQ 38.8125 6.390625 42.859375 10.171875 \nQ 46.921875 13.96875 46.921875 20.515625 \nQ 46.921875 27.09375 42.890625 30.859375 \nQ 38.875 34.625 31.78125 34.625 \nz\nM 21.921875 38.8125 \nQ 15.578125 40.375 12.03125 44.71875 \nQ 8.5 49.078125 8.5 55.328125 \nQ 8.5 64.0625 14.71875 69.140625 \nQ 20.953125 74.21875 31.78125 74.21875 \nQ 42.671875 74.21875 48.875 69.140625 \nQ 55.078125 64.0625 55.078125 55.328125 \nQ 55.078125 49.078125 51.53125 44.71875 \nQ 48 40.375 41.703125 38.8125 \nQ 48.828125 37.15625 52.796875 32.3125 \nQ 56.78125 27.484375 56.78125 20.515625 \nQ 56.78125 9.90625 50.3125 4.234375 \nQ 43.84375 -1.421875 31.78125 -1.421875 \nQ 19.734375 -1.421875 13.25 4.234375 \nQ 6.78125 9.90625 6.78125 20.515625 \nQ 6.78125 27.484375 10.78125 32.3125 \nQ 14.796875 37.15625 21.921875 38.8125 \nz\nM 18.3125 54.390625 \nQ 18.3125 48.734375 21.84375 45.5625 \nQ 25.390625 42.390625 31.78125 42.390625 \nQ 38.140625 42.390625 41.71875 45.5625 \nQ 45.3125 48.734375 45.3125 54.390625 \nQ 45.3125 60.0625 41.71875 63.234375 \nQ 38.140625 66.40625 31.78125 66.40625 \nQ 25.390625 66.40625 21.84375 63.234375 \nQ 18.3125 60.0625 18.3125 54.390625 \nz\n\" id=\"DejaVuSans-56\"/>\n       </defs>\n       <use xlink:href=\"#DejaVuSans-56\"/>\n       <use x=\"63.623047\" xlink:href=\"#DejaVuSans-48\"/>\n       <use x=\"127.246094\" xlink:href=\"#DejaVuSans-48\"/>\n       <use x=\"190.869141\" xlink:href=\"#DejaVuSans-48\"/>\n       <use x=\"254.492188\" xlink:href=\"#DejaVuSans-48\"/>\n      </g>\n     </g>\n    </g>\n   </g>\n   <g id=\"matplotlib.axis_2\">\n    <g id=\"ytick_1\">\n     <g id=\"line2d_8\">\n      <defs>\n       <path d=\"M 0 0 \nL -3.5 0 \n\" id=\"me500170164\" style=\"stroke:#000000;stroke-width:0.8;\"/>\n      </defs>\n      <g>\n       <use style=\"stroke:#000000;stroke-width:0.8;\" x=\"39.65\" xlink:href=\"#me500170164\" y=\"224.64\"/>\n      </g>\n     </g>\n     <g id=\"text_8\">\n      <!-- 0 -->\n      <g transform=\"translate(26.2875 228.439219)scale(0.1 -0.1)\">\n       <use xlink:href=\"#DejaVuSans-48\"/>\n      </g>\n     </g>\n    </g>\n    <g id=\"ytick_2\">\n     <g id=\"line2d_9\">\n      <g>\n       <use style=\"stroke:#000000;stroke-width:0.8;\" x=\"39.65\" xlink:href=\"#me500170164\" y=\"189.295109\"/>\n      </g>\n     </g>\n     <g id=\"text_9\">\n      <!-- 1000 -->\n      <g transform=\"translate(7.2 193.094328)scale(0.1 -0.1)\">\n       <defs>\n        <path d=\"M 12.40625 8.296875 \nL 28.515625 8.296875 \nL 28.515625 63.921875 \nL 10.984375 60.40625 \nL 10.984375 69.390625 \nL 28.421875 72.90625 \nL 38.28125 72.90625 \nL 38.28125 8.296875 \nL 54.390625 8.296875 \nL 54.390625 0 \nL 12.40625 0 \nz\n\" id=\"DejaVuSans-49\"/>\n       </defs>\n       <use xlink:href=\"#DejaVuSans-49\"/>\n       <use x=\"63.623047\" xlink:href=\"#DejaVuSans-48\"/>\n       <use x=\"127.246094\" xlink:href=\"#DejaVuSans-48\"/>\n       <use x=\"190.869141\" xlink:href=\"#DejaVuSans-48\"/>\n      </g>\n     </g>\n    </g>\n    <g id=\"ytick_3\">\n     <g id=\"line2d_10\">\n      <g>\n       <use style=\"stroke:#000000;stroke-width:0.8;\" x=\"39.65\" xlink:href=\"#me500170164\" y=\"153.950219\"/>\n      </g>\n     </g>\n     <g id=\"text_10\">\n      <!-- 2000 -->\n      <g transform=\"translate(7.2 157.749437)scale(0.1 -0.1)\">\n       <use xlink:href=\"#DejaVuSans-50\"/>\n       <use x=\"63.623047\" xlink:href=\"#DejaVuSans-48\"/>\n       <use x=\"127.246094\" xlink:href=\"#DejaVuSans-48\"/>\n       <use x=\"190.869141\" xlink:href=\"#DejaVuSans-48\"/>\n      </g>\n     </g>\n    </g>\n    <g id=\"ytick_4\">\n     <g id=\"line2d_11\">\n      <g>\n       <use style=\"stroke:#000000;stroke-width:0.8;\" x=\"39.65\" xlink:href=\"#me500170164\" y=\"118.605328\"/>\n      </g>\n     </g>\n     <g id=\"text_11\">\n      <!-- 3000 -->\n      <g transform=\"translate(7.2 122.404547)scale(0.1 -0.1)\">\n       <defs>\n        <path d=\"M 40.578125 39.3125 \nQ 47.65625 37.796875 51.625 33 \nQ 55.609375 28.21875 55.609375 21.1875 \nQ 55.609375 10.40625 48.1875 4.484375 \nQ 40.765625 -1.421875 27.09375 -1.421875 \nQ 22.515625 -1.421875 17.65625 -0.515625 \nQ 12.796875 0.390625 7.625 2.203125 \nL 7.625 11.71875 \nQ 11.71875 9.328125 16.59375 8.109375 \nQ 21.484375 6.890625 26.8125 6.890625 \nQ 36.078125 6.890625 40.9375 10.546875 \nQ 45.796875 14.203125 45.796875 21.1875 \nQ 45.796875 27.640625 41.28125 31.265625 \nQ 36.765625 34.90625 28.71875 34.90625 \nL 20.21875 34.90625 \nL 20.21875 43.015625 \nL 29.109375 43.015625 \nQ 36.375 43.015625 40.234375 45.921875 \nQ 44.09375 48.828125 44.09375 54.296875 \nQ 44.09375 59.90625 40.109375 62.90625 \nQ 36.140625 65.921875 28.71875 65.921875 \nQ 24.65625 65.921875 20.015625 65.03125 \nQ 15.375 64.15625 9.8125 62.3125 \nL 9.8125 71.09375 \nQ 15.4375 72.65625 20.34375 73.4375 \nQ 25.25 74.21875 29.59375 74.21875 \nQ 40.828125 74.21875 47.359375 69.109375 \nQ 53.90625 64.015625 53.90625 55.328125 \nQ 53.90625 49.265625 50.4375 45.09375 \nQ 46.96875 40.921875 40.578125 39.3125 \nz\n\" id=\"DejaVuSans-51\"/>\n       </defs>\n       <use xlink:href=\"#DejaVuSans-51\"/>\n       <use x=\"63.623047\" xlink:href=\"#DejaVuSans-48\"/>\n       <use x=\"127.246094\" xlink:href=\"#DejaVuSans-48\"/>\n       <use x=\"190.869141\" xlink:href=\"#DejaVuSans-48\"/>\n      </g>\n     </g>\n    </g>\n    <g id=\"ytick_5\">\n     <g id=\"line2d_12\">\n      <g>\n       <use style=\"stroke:#000000;stroke-width:0.8;\" x=\"39.65\" xlink:href=\"#me500170164\" y=\"83.260437\"/>\n      </g>\n     </g>\n     <g id=\"text_12\">\n      <!-- 4000 -->\n      <g transform=\"translate(7.2 87.059656)scale(0.1 -0.1)\">\n       <use xlink:href=\"#DejaVuSans-52\"/>\n       <use x=\"63.623047\" xlink:href=\"#DejaVuSans-48\"/>\n       <use x=\"127.246094\" xlink:href=\"#DejaVuSans-48\"/>\n       <use x=\"190.869141\" xlink:href=\"#DejaVuSans-48\"/>\n      </g>\n     </g>\n    </g>\n    <g id=\"ytick_6\">\n     <g id=\"line2d_13\">\n      <g>\n       <use style=\"stroke:#000000;stroke-width:0.8;\" x=\"39.65\" xlink:href=\"#me500170164\" y=\"47.915547\"/>\n      </g>\n     </g>\n     <g id=\"text_13\">\n      <!-- 5000 -->\n      <g transform=\"translate(7.2 51.714766)scale(0.1 -0.1)\">\n       <defs>\n        <path d=\"M 10.796875 72.90625 \nL 49.515625 72.90625 \nL 49.515625 64.59375 \nL 19.828125 64.59375 \nL 19.828125 46.734375 \nQ 21.96875 47.46875 24.109375 47.828125 \nQ 26.265625 48.1875 28.421875 48.1875 \nQ 40.625 48.1875 47.75 41.5 \nQ 54.890625 34.8125 54.890625 23.390625 \nQ 54.890625 11.625 47.5625 5.09375 \nQ 40.234375 -1.421875 26.90625 -1.421875 \nQ 22.3125 -1.421875 17.546875 -0.640625 \nQ 12.796875 0.140625 7.71875 1.703125 \nL 7.71875 11.625 \nQ 12.109375 9.234375 16.796875 8.0625 \nQ 21.484375 6.890625 26.703125 6.890625 \nQ 35.15625 6.890625 40.078125 11.328125 \nQ 45.015625 15.765625 45.015625 23.390625 \nQ 45.015625 31 40.078125 35.4375 \nQ 35.15625 39.890625 26.703125 39.890625 \nQ 22.75 39.890625 18.8125 39.015625 \nQ 14.890625 38.140625 10.796875 36.28125 \nz\n\" id=\"DejaVuSans-53\"/>\n       </defs>\n       <use xlink:href=\"#DejaVuSans-53\"/>\n       <use x=\"63.623047\" xlink:href=\"#DejaVuSans-48\"/>\n       <use x=\"127.246094\" xlink:href=\"#DejaVuSans-48\"/>\n       <use x=\"190.869141\" xlink:href=\"#DejaVuSans-48\"/>\n      </g>\n     </g>\n    </g>\n    <g id=\"ytick_7\">\n     <g id=\"line2d_14\">\n      <g>\n       <use style=\"stroke:#000000;stroke-width:0.8;\" x=\"39.65\" xlink:href=\"#me500170164\" y=\"12.570656\"/>\n      </g>\n     </g>\n     <g id=\"text_14\">\n      <!-- 6000 -->\n      <g transform=\"translate(7.2 16.369875)scale(0.1 -0.1)\">\n       <use xlink:href=\"#DejaVuSans-54\"/>\n       <use x=\"63.623047\" xlink:href=\"#DejaVuSans-48\"/>\n       <use x=\"127.246094\" xlink:href=\"#DejaVuSans-48\"/>\n       <use x=\"190.869141\" xlink:href=\"#DejaVuSans-48\"/>\n      </g>\n     </g>\n    </g>\n   </g>\n   <g id=\"patch_53\">\n    <path d=\"M 39.65 224.64 \nL 39.65 7.2 \n\" style=\"fill:none;stroke:#000000;stroke-linecap:square;stroke-linejoin:miter;stroke-width:0.8;\"/>\n   </g>\n   <g id=\"patch_54\">\n    <path d=\"M 374.45 224.64 \nL 374.45 7.2 \n\" style=\"fill:none;stroke:#000000;stroke-linecap:square;stroke-linejoin:miter;stroke-width:0.8;\"/>\n   </g>\n   <g id=\"patch_55\">\n    <path d=\"M 39.65 224.64 \nL 374.45 224.64 \n\" style=\"fill:none;stroke:#000000;stroke-linecap:square;stroke-linejoin:miter;stroke-width:0.8;\"/>\n   </g>\n   <g id=\"patch_56\">\n    <path d=\"M 39.65 7.2 \nL 374.45 7.2 \n\" style=\"fill:none;stroke:#000000;stroke-linecap:square;stroke-linejoin:miter;stroke-width:0.8;\"/>\n   </g>\n  </g>\n </g>\n <defs>\n  <clipPath id=\"pd9cbe8e7d2\">\n   <rect height=\"217.44\" width=\"334.8\" x=\"39.65\" y=\"7.2\"/>\n  </clipPath>\n </defs>\n</svg>\n",
      "image/png": "[encoded data removed]"
     },
     "metadata": {
      "needs_background": "light"
     }
    }
   ],
   "source": [
    "slopes = hmm\n",
    "slopes_full = slopes[slopes.notna()]\n",
    "slopes_full\n",
    "all_valid_slopes = slopes_full.values\n",
    "fig, ax = plt.subplots()\n",
    "ax.set_xlim(-50000, 80000)\n",
    "ax.ticklabel_format(style='plain')\n",
    "ax.ticklabel_format(useOffset=False)\n",
    "ax.hist(all_valid_slopes, bins=50)\n",
    "\n",
    "print()"
   ]
  },
  {
   "cell_type": "code",
   "execution_count": 48,
   "metadata": {},
   "outputs": [],
   "source": [
    "c = 0\n",
    "def most_recent_sale_price_time_adjusted(parcel):\n",
    "    global c\n",
    "    c +=1\n",
    "    if(c % 1000 ==0):\n",
    "        print(c)\n",
    "    data = prices_for_parcel(parcel, fam_sales_g0)\n",
    "    if(len(data) < 1):\n",
    "        return np.nan\n",
    "\n",
    "    sorted_data = data.sort_values(by=['Date'])\n",
    "    return sorted_data.iloc[-1][\"Price_Time_Adjusted\"]\n",
    "\n",
    "def most_recent_sale_price_inflated(parcel):\n",
    "    data = prices_for_parcel(parcel, fam_sales_g0)\n",
    "    if(len(data) < 1):\n",
    "        return np.nan\n",
    "\n",
    "    sorted_data = data.sort_values(by=['Date'])\n",
    "    return sorted_data.iloc[-1][\"Price_Inflated\"]\n",
    "\n",
    "#slopes_dict = pd.read_csv()\n",
    "def most_recent_growth_factor(parcel):\n",
    "    if parcel in reee:\n",
    "        return reee[parcel]\n",
    "    else:\n",
    "        return np.nan\n",
    "\n",
    "#fam_core[\"Recent_Sales_Price_Time_Ajusted\"] = fam_core.index.to_series().apply(most_recent_sale_price_time_adjusted)\n",
    "#fam_core[\"Recent_Sales_Price_Inflated\"] = fam_core.index.to_series().apply(most_recent_sale_price_inflated)\n",
    "#fam_core[\"Recent_Sales_Price_Growth\"] = fam_core.index.to_series().apply(most_recent_growth_factor)"
   ]
  },
  {
   "cell_type": "code",
   "execution_count": 53,
   "metadata": {},
   "outputs": [],
   "source": [
    "slopes_dict = pd.read_csv(\"slopes.csv\",index_col=0, dtype={\"Parcel\": \"str\"})[\"Parcel.1\"].to_dict()\n",
    "reee = {}\n",
    "for p in slopes_dict:\n",
    "    reee[str(p)] = slopes_dict[p]\n",
    "reee\n",
    "#s = [x for x in fam_core[\"Recent_Sales_Price_Growth\"].values if x != np.nan]\n",
    "\n",
    "#fam_core[\"Recent_Sales_Price_Growth\"].values[500:550]\n",
    "#slopes_dict.keys()\n",
    "fam_core.to_csv(\"single_family_core.csv\")"
   ]
  },
  {
   "cell_type": "code",
   "execution_count": null,
   "metadata": {},
   "outputs": [],
   "source": []
  }
 ]
}