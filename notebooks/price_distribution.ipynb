{
 "metadata": {
  "language_info": {
   "codemirror_mode": {
    "name": "ipython",
    "version": 3
   },
   "file_extension": ".py",
   "mimetype": "text/x-python",
   "name": "python",
   "nbconvert_exporter": "python",
   "pygments_lexer": "ipython3",
   "version": "3.8.2-final"
  },
  "orig_nbformat": 2,
  "kernelspec": {
   "name": "Python 3.8.2 64-bit",
   "display_name": "Python 3.8.2 64-bit",
   "metadata": {
    "interpreter": {
     "hash": "25fcd188946dac88c9eb1e405eda02affa4aeb7fb16dc0201f675caa1355facd"
    }
   }
  }
 },
 "nbformat": 4,
 "nbformat_minor": 2,
 "cells": [
  {
   "cell_type": "code",
   "execution_count": 10,
   "metadata": {},
   "outputs": [
    {
     "output_type": "stream",
     "name": "stdout",
     "text": [
      "['DATASETS', 'DATA_PATH', '__builtins__', '__cached__', '__doc__', '__file__', '__loader__', '__name__', '__package__', '__spec__', '__warningregistry__', 'download_datasets', 'download_file', 'load_csv_datasets', 'os', 'pd', 'urllib3']\n"
     ]
    }
   ],
   "source": [
    "import random\n",
    "import os\n",
    "import urllib3\n",
    "import pandas as pd\n",
    "from pandas import Series\n",
    "import geopandas as gpd\n",
    "from geopy import distance\n",
    "import matplotlib.pyplot as plt\n",
    "import numpy as np\n",
    "import seaborn as sns\n",
    "import imageio\n",
    "from matplotlib.lines import Line2D\n",
    "\n",
    "COMMON_DIR = os.path.join(os.pardir, 'common')\n",
    "sys.path.insert(1, COMMON_DIR)\n",
    "\n",
    "import data_retreiver\n",
    "import time_adjusted_price as money\n",
    "print(dir(data_retreiver))\n",
    "from datetime import date"
   ]
  },
  {
   "cell_type": "code",
   "execution_count": 11,
   "metadata": {},
   "outputs": [],
   "source": [
    "data_retreiver.download_datasets()"
   ]
  },
  {
   "cell_type": "code",
   "execution_count": 12,
   "metadata": {},
   "outputs": [],
   "source": [
    "(fam_sales, fam_core, year_sales) = data_retreiver.load_csv_datasets(\"single_family_sales\", \"single_family_core\", \"year_sales\")"
   ]
  },
  {
   "cell_type": "code",
   "execution_count": 13,
   "metadata": {},
   "outputs": [
    {
     "output_type": "stream",
     "name": "stdout",
     "text": [
      "50\n",
      "1975 567690.0\n",
      "62\n",
      "1976 627993.0\n",
      "83\n",
      "1977 695823.0\n",
      "89\n",
      "1978 716679.7000000002\n",
      "83\n",
      "1979 726706.0\n",
      "59\n",
      "1980 743125.0\n",
      "55\n",
      "1981 658638.0\n",
      "67\n",
      "1982 591000.0\n",
      "82\n",
      "1983 595190.0\n",
      "94\n",
      "1984 649740.0\n",
      "98\n",
      "1985 643000.0\n",
      "100\n",
      "1986 700290.0\n",
      "95\n",
      "1987 702000.0\n",
      "94\n",
      "1988 798027.5\n",
      "96\n",
      "1989 728100.0\n",
      "102\n",
      "1990 848440.0\n",
      "106\n",
      "1991 904475.0\n",
      "105\n",
      "1992 904475.0\n",
      "94\n",
      "1993 731250.0\n",
      "88\n",
      "1994 684563.0\n",
      "87\n",
      "1995 662562.0\n",
      "100\n",
      "1996 1701861.0\n",
      "106\n",
      "1997 1892520.0\n",
      "112\n",
      "1998 1892520.0\n",
      "117\n",
      "1999 1892520.0\n",
      "122\n",
      "2000 1794240.0\n",
      "134\n",
      "2001 1828237.0\n",
      "136\n",
      "2002 1828237.0\n",
      "133\n",
      "2003 1828237.0\n",
      "120\n",
      "2004 1746719.9999999998\n",
      "104\n",
      "2005 1783500.0\n",
      "88\n",
      "2006 1982213.0\n",
      "78\n",
      "2007 1249677.79\n",
      "68\n",
      "2008 970020.0\n",
      "64\n",
      "2009 1136620.0\n",
      "66\n",
      "2010 1688721.0\n",
      "75\n",
      "2011 1987680.0\n",
      "86\n",
      "2012 1987680.0\n",
      "93\n",
      "2013 1987680.0\n",
      "96\n",
      "2014 1832800.0\n",
      "100\n",
      "2015 1832800.0\n",
      "99\n",
      "2016 907120.0\n",
      "97\n",
      "2017 868020.0\n",
      "85\n",
      "2018 860320.0\n"
     ]
    },
    {
     "output_type": "display_data",
     "data": {
      "text/plain": "<Figure size 432x288 with 1 Axes>",
      "image/svg+xml": "<?xml version=\"1.0\" encoding=\"utf-8\" standalone=\"no\"?>\n<!DOCTYPE svg PUBLIC \"-//W3C//DTD SVG 1.1//EN\"\n  \"http://www.w3.org/Graphics/SVG/1.1/DTD/svg11.dtd\">\n<!-- Created with matplotlib (https://matplotlib.org/) -->\n<svg height=\"248.518125pt\" version=\"1.1\" viewBox=\"0 0 365.103125 248.518125\" width=\"365.103125pt\" xmlns=\"http://www.w3.org/2000/svg\" xmlns:xlink=\"http://www.w3.org/1999/xlink\">\n <metadata>\n  <rdf:RDF xmlns:cc=\"http://creativecommons.org/ns#\" xmlns:dc=\"http://purl.org/dc/elements/1.1/\" xmlns:rdf=\"http://www.w3.org/1999/02/22-rdf-syntax-ns#\">\n   <cc:Work>\n    <dc:type rdf:resource=\"http://purl.org/dc/dcmitype/StillImage\"/>\n    <dc:date>2020-10-22T12:33:03.929716</dc:date>\n    <dc:format>image/svg+xml</dc:format>\n    <dc:creator>\n     <cc:Agent>\n      <dc:title>Matplotlib v3.3.1, https://matplotlib.org/</dc:title>\n     </cc:Agent>\n    </dc:creator>\n   </cc:Work>\n  </rdf:RDF>\n </metadata>\n <defs>\n  <style type=\"text/css\">*{stroke-linecap:butt;stroke-linejoin:round;}</style>\n </defs>\n <g id=\"figure_1\">\n  <g id=\"patch_1\">\n   <path d=\"M 0 248.518125 \nL 365.103125 248.518125 \nL 365.103125 0 \nL 0 0 \nz\n\" style=\"fill:#ffffff;\"/>\n  </g>\n  <g id=\"axes_1\">\n   <g id=\"patch_2\">\n    <path d=\"M 15.151563 224.64 \nL 349.951563 224.64 \nL 349.951563 7.2 \nL 15.151563 7.2 \nz\n\" style=\"fill:#ffffff;\"/>\n   </g>\n   <g id=\"matplotlib.axis_1\">\n    <g id=\"xtick_1\">\n     <g id=\"line2d_1\">\n      <path clip-path=\"url(#pb09e691fd6)\" d=\"M 15.151563 224.64 \nL 15.151563 7.2 \n\" style=\"fill:none;stroke:#cccccc;stroke-linecap:round;stroke-width:0.8;\"/>\n     </g>\n     <g id=\"text_1\">\n      <!-- 0.0 -->\n      <g style=\"fill:#262626;\" transform=\"translate(7.2 239.238437)scale(0.1 -0.1)\">\n       <defs>\n        <path d=\"M 31.78125 66.40625 \nQ 24.171875 66.40625 20.328125 58.90625 \nQ 16.5 51.421875 16.5 36.375 \nQ 16.5 21.390625 20.328125 13.890625 \nQ 24.171875 6.390625 31.78125 6.390625 \nQ 39.453125 6.390625 43.28125 13.890625 \nQ 47.125 21.390625 47.125 36.375 \nQ 47.125 51.421875 43.28125 58.90625 \nQ 39.453125 66.40625 31.78125 66.40625 \nz\nM 31.78125 74.21875 \nQ 44.046875 74.21875 50.515625 64.515625 \nQ 56.984375 54.828125 56.984375 36.375 \nQ 56.984375 17.96875 50.515625 8.265625 \nQ 44.046875 -1.421875 31.78125 -1.421875 \nQ 19.53125 -1.421875 13.0625 8.265625 \nQ 6.59375 17.96875 6.59375 36.375 \nQ 6.59375 54.828125 13.0625 64.515625 \nQ 19.53125 74.21875 31.78125 74.21875 \nz\n\" id=\"DejaVuSans-48\"/>\n        <path d=\"M 10.6875 12.40625 \nL 21 12.40625 \nL 21 0 \nL 10.6875 0 \nz\n\" id=\"DejaVuSans-46\"/>\n       </defs>\n       <use xlink:href=\"#DejaVuSans-48\"/>\n       <use x=\"63.623047\" xlink:href=\"#DejaVuSans-46\"/>\n       <use x=\"95.410156\" xlink:href=\"#DejaVuSans-48\"/>\n      </g>\n     </g>\n    </g>\n    <g id=\"xtick_2\">\n     <g id=\"line2d_2\">\n      <path clip-path=\"url(#pb09e691fd6)\" d=\"M 82.111563 224.64 \nL 82.111563 7.2 \n\" style=\"fill:none;stroke:#cccccc;stroke-linecap:round;stroke-width:0.8;\"/>\n     </g>\n     <g id=\"text_2\">\n      <!-- 0.2 -->\n      <g style=\"fill:#262626;\" transform=\"translate(74.16 239.238437)scale(0.1 -0.1)\">\n       <defs>\n        <path d=\"M 19.1875 8.296875 \nL 53.609375 8.296875 \nL 53.609375 0 \nL 7.328125 0 \nL 7.328125 8.296875 \nQ 12.9375 14.109375 22.625 23.890625 \nQ 32.328125 33.6875 34.8125 36.53125 \nQ 39.546875 41.84375 41.421875 45.53125 \nQ 43.3125 49.21875 43.3125 52.78125 \nQ 43.3125 58.59375 39.234375 62.25 \nQ 35.15625 65.921875 28.609375 65.921875 \nQ 23.96875 65.921875 18.8125 64.3125 \nQ 13.671875 62.703125 7.8125 59.421875 \nL 7.8125 69.390625 \nQ 13.765625 71.78125 18.9375 73 \nQ 24.125 74.21875 28.421875 74.21875 \nQ 39.75 74.21875 46.484375 68.546875 \nQ 53.21875 62.890625 53.21875 53.421875 \nQ 53.21875 48.921875 51.53125 44.890625 \nQ 49.859375 40.875 45.40625 35.40625 \nQ 44.1875 33.984375 37.640625 27.21875 \nQ 31.109375 20.453125 19.1875 8.296875 \nz\n\" id=\"DejaVuSans-50\"/>\n       </defs>\n       <use xlink:href=\"#DejaVuSans-48\"/>\n       <use x=\"63.623047\" xlink:href=\"#DejaVuSans-46\"/>\n       <use x=\"95.410156\" xlink:href=\"#DejaVuSans-50\"/>\n      </g>\n     </g>\n    </g>\n    <g id=\"xtick_3\">\n     <g id=\"line2d_3\">\n      <path clip-path=\"url(#pb09e691fd6)\" d=\"M 149.071563 224.64 \nL 149.071563 7.2 \n\" style=\"fill:none;stroke:#cccccc;stroke-linecap:round;stroke-width:0.8;\"/>\n     </g>\n     <g id=\"text_3\">\n      <!-- 0.4 -->\n      <g style=\"fill:#262626;\" transform=\"translate(141.12 239.238437)scale(0.1 -0.1)\">\n       <defs>\n        <path d=\"M 37.796875 64.3125 \nL 12.890625 25.390625 \nL 37.796875 25.390625 \nz\nM 35.203125 72.90625 \nL 47.609375 72.90625 \nL 47.609375 25.390625 \nL 58.015625 25.390625 \nL 58.015625 17.1875 \nL 47.609375 17.1875 \nL 47.609375 0 \nL 37.796875 0 \nL 37.796875 17.1875 \nL 4.890625 17.1875 \nL 4.890625 26.703125 \nz\n\" id=\"DejaVuSans-52\"/>\n       </defs>\n       <use xlink:href=\"#DejaVuSans-48\"/>\n       <use x=\"63.623047\" xlink:href=\"#DejaVuSans-46\"/>\n       <use x=\"95.410156\" xlink:href=\"#DejaVuSans-52\"/>\n      </g>\n     </g>\n    </g>\n    <g id=\"xtick_4\">\n     <g id=\"line2d_4\">\n      <path clip-path=\"url(#pb09e691fd6)\" d=\"M 216.031563 224.64 \nL 216.031563 7.2 \n\" style=\"fill:none;stroke:#cccccc;stroke-linecap:round;stroke-width:0.8;\"/>\n     </g>\n     <g id=\"text_4\">\n      <!-- 0.6 -->\n      <g style=\"fill:#262626;\" transform=\"translate(208.08 239.238437)scale(0.1 -0.1)\">\n       <defs>\n        <path d=\"M 33.015625 40.375 \nQ 26.375 40.375 22.484375 35.828125 \nQ 18.609375 31.296875 18.609375 23.390625 \nQ 18.609375 15.53125 22.484375 10.953125 \nQ 26.375 6.390625 33.015625 6.390625 \nQ 39.65625 6.390625 43.53125 10.953125 \nQ 47.40625 15.53125 47.40625 23.390625 \nQ 47.40625 31.296875 43.53125 35.828125 \nQ 39.65625 40.375 33.015625 40.375 \nz\nM 52.59375 71.296875 \nL 52.59375 62.3125 \nQ 48.875 64.0625 45.09375 64.984375 \nQ 41.3125 65.921875 37.59375 65.921875 \nQ 27.828125 65.921875 22.671875 59.328125 \nQ 17.53125 52.734375 16.796875 39.40625 \nQ 19.671875 43.65625 24.015625 45.921875 \nQ 28.375 48.1875 33.59375 48.1875 \nQ 44.578125 48.1875 50.953125 41.515625 \nQ 57.328125 34.859375 57.328125 23.390625 \nQ 57.328125 12.15625 50.6875 5.359375 \nQ 44.046875 -1.421875 33.015625 -1.421875 \nQ 20.359375 -1.421875 13.671875 8.265625 \nQ 6.984375 17.96875 6.984375 36.375 \nQ 6.984375 53.65625 15.1875 63.9375 \nQ 23.390625 74.21875 37.203125 74.21875 \nQ 40.921875 74.21875 44.703125 73.484375 \nQ 48.484375 72.75 52.59375 71.296875 \nz\n\" id=\"DejaVuSans-54\"/>\n       </defs>\n       <use xlink:href=\"#DejaVuSans-48\"/>\n       <use x=\"63.623047\" xlink:href=\"#DejaVuSans-46\"/>\n       <use x=\"95.410156\" xlink:href=\"#DejaVuSans-54\"/>\n      </g>\n     </g>\n    </g>\n    <g id=\"xtick_5\">\n     <g id=\"line2d_5\">\n      <path clip-path=\"url(#pb09e691fd6)\" d=\"M 282.991563 224.64 \nL 282.991563 7.2 \n\" style=\"fill:none;stroke:#cccccc;stroke-linecap:round;stroke-width:0.8;\"/>\n     </g>\n     <g id=\"text_5\">\n      <!-- 0.8 -->\n      <g style=\"fill:#262626;\" transform=\"translate(275.04 239.238437)scale(0.1 -0.1)\">\n       <defs>\n        <path d=\"M 31.78125 34.625 \nQ 24.75 34.625 20.71875 30.859375 \nQ 16.703125 27.09375 16.703125 20.515625 \nQ 16.703125 13.921875 20.71875 10.15625 \nQ 24.75 6.390625 31.78125 6.390625 \nQ 38.8125 6.390625 42.859375 10.171875 \nQ 46.921875 13.96875 46.921875 20.515625 \nQ 46.921875 27.09375 42.890625 30.859375 \nQ 38.875 34.625 31.78125 34.625 \nz\nM 21.921875 38.8125 \nQ 15.578125 40.375 12.03125 44.71875 \nQ 8.5 49.078125 8.5 55.328125 \nQ 8.5 64.0625 14.71875 69.140625 \nQ 20.953125 74.21875 31.78125 74.21875 \nQ 42.671875 74.21875 48.875 69.140625 \nQ 55.078125 64.0625 55.078125 55.328125 \nQ 55.078125 49.078125 51.53125 44.71875 \nQ 48 40.375 41.703125 38.8125 \nQ 48.828125 37.15625 52.796875 32.3125 \nQ 56.78125 27.484375 56.78125 20.515625 \nQ 56.78125 9.90625 50.3125 4.234375 \nQ 43.84375 -1.421875 31.78125 -1.421875 \nQ 19.734375 -1.421875 13.25 4.234375 \nQ 6.78125 9.90625 6.78125 20.515625 \nQ 6.78125 27.484375 10.78125 32.3125 \nQ 14.796875 37.15625 21.921875 38.8125 \nz\nM 18.3125 54.390625 \nQ 18.3125 48.734375 21.84375 45.5625 \nQ 25.390625 42.390625 31.78125 42.390625 \nQ 38.140625 42.390625 41.71875 45.5625 \nQ 45.3125 48.734375 45.3125 54.390625 \nQ 45.3125 60.0625 41.71875 63.234375 \nQ 38.140625 66.40625 31.78125 66.40625 \nQ 25.390625 66.40625 21.84375 63.234375 \nQ 18.3125 60.0625 18.3125 54.390625 \nz\n\" id=\"DejaVuSans-56\"/>\n       </defs>\n       <use xlink:href=\"#DejaVuSans-48\"/>\n       <use x=\"63.623047\" xlink:href=\"#DejaVuSans-46\"/>\n       <use x=\"95.410156\" xlink:href=\"#DejaVuSans-56\"/>\n      </g>\n     </g>\n    </g>\n    <g id=\"xtick_6\">\n     <g id=\"line2d_6\">\n      <path clip-path=\"url(#pb09e691fd6)\" d=\"M 349.951563 224.64 \nL 349.951563 7.2 \n\" style=\"fill:none;stroke:#cccccc;stroke-linecap:round;stroke-width:0.8;\"/>\n     </g>\n     <g id=\"text_6\">\n      <!-- 1.0 -->\n      <g style=\"fill:#262626;\" transform=\"translate(342 239.238437)scale(0.1 -0.1)\">\n       <defs>\n        <path d=\"M 12.40625 8.296875 \nL 28.515625 8.296875 \nL 28.515625 63.921875 \nL 10.984375 60.40625 \nL 10.984375 69.390625 \nL 28.421875 72.90625 \nL 38.28125 72.90625 \nL 38.28125 8.296875 \nL 54.390625 8.296875 \nL 54.390625 0 \nL 12.40625 0 \nz\n\" id=\"DejaVuSans-49\"/>\n       </defs>\n       <use xlink:href=\"#DejaVuSans-49\"/>\n       <use x=\"63.623047\" xlink:href=\"#DejaVuSans-46\"/>\n       <use x=\"95.410156\" xlink:href=\"#DejaVuSans-48\"/>\n      </g>\n     </g>\n    </g>\n   </g>\n   <g id=\"patch_3\">\n    <path d=\"M 15.151563 224.64 \nL 15.151563 7.2 \n\" style=\"fill:none;stroke:#cccccc;stroke-linecap:square;stroke-linejoin:miter;stroke-width:0.8;\"/>\n   </g>\n   <g id=\"patch_4\">\n    <path d=\"M 349.951563 224.64 \nL 349.951563 7.2 \n\" style=\"fill:none;stroke:#cccccc;stroke-linecap:square;stroke-linejoin:miter;stroke-width:0.8;\"/>\n   </g>\n   <g id=\"patch_5\">\n    <path d=\"M 15.151563 224.64 \nL 349.951563 224.64 \n\" style=\"fill:none;stroke:#cccccc;stroke-linecap:square;stroke-linejoin:miter;stroke-width:0.8;\"/>\n   </g>\n   <g id=\"patch_6\">\n    <path d=\"M 15.151563 7.2 \nL 349.951563 7.2 \n\" style=\"fill:none;stroke:#cccccc;stroke-linecap:square;stroke-linejoin:miter;stroke-width:0.8;\"/>\n   </g>\n  </g>\n </g>\n <defs>\n  <clipPath id=\"pb09e691fd6\">\n   <rect height=\"217.44\" width=\"334.8\" x=\"15.151563\" y=\"7.2\"/>\n  </clipPath>\n </defs>\n</svg>\n",
      "image/png": "[encoded data removed]"
     },
     "metadata": {}
    }
   ],
   "source": [
    "def drop_top_values(values, percent_drop):\n",
    "    n = len(values)\n",
    "    values_to_drop = int(n * (percent_drop / 100)) + 1\n",
    "    print(values_to_drop)\n",
    "    values_sorted = list(sorted(values))\n",
    "    return values_sorted[:-values_to_drop]\n",
    "\n",
    "def drop_top_values_lim(values, top_lim):\n",
    "    return [v for v in values if v < top_lim]\n",
    "\n",
    "def getPricesInYear(df, year):\n",
    "    salesInYear = df[df[\"Year\"] == year]\n",
    "    prices = salesInYear[\"Price\"].values\n",
    "    return prices\n",
    "\n",
    "def getPricesInYear_Inflated(df, year):\n",
    "    salesInYear = df[df[\"Year\"] == year]\n",
    "    prices = salesInYear[\"Price_Time_Adjusted\"].values\n",
    "    return prices\n",
    "\n",
    "def plot_inflated_sales_prices(df, year_start, year_end, inflated = True):\n",
    "    years = list(range(year_start, year_end+1))\n",
    "    prices = []\n",
    "\n",
    "    if(inflated):\n",
    "        file_name = f\"anim/inf_sales_{year_start}_{year_end}.png\"\n",
    "        title = f\"Madison Home Sales Prices {year_start} - {year_end} (Inflated)\"\n",
    "        xlab = \"Price (2020 Dollars, Thousands)\"\n",
    "        for y in years:\n",
    "            prices.extend(getPricesInYear_Inflated(df, y))\n",
    "    else:\n",
    "        file_name = f\"anim/sales_{year_start}_{year_end}.png\"\n",
    "        title = f\"Madison Home Sales Prices {year_start} - {year_end}\"\n",
    "        xlab = \"Price (Thousands)\"\n",
    "        for y in years:\n",
    "            prices.extend(getPricesInYear(df, y))\n",
    "\n",
    "\n",
    "    prices_drop_top = drop_top_values(prices, 1)\n",
    "    prices_drop_top = drop_top_values_lim(prices_drop_top, 2000000)\n",
    "    print(year_start, max(prices_drop_top))\n",
    "    median = np.median(prices_drop_top)\n",
    "\n",
    "\n",
    "    sns.set_style('whitegrid')\n",
    "    p = sns.kdeplot(np.array(prices_drop_top), bw=0.15)\n",
    "    p.set_title(title)\n",
    "    p.set_xlim(0, 1000000)\n",
    "    p.set_xlabel(xlab)\n",
    "    p.get_yaxis().set_visible(False)\n",
    "    p.set_xticks(np.arange(0, 1000000, 100000))\n",
    "    p.set_xticklabels([\"0\", \"100K\", \"200K\", \"300K\", \"400K\", \"500K\", \"600K\", \"700K\", \"800K\", \"900K\"])\n",
    "    p.axvline(x=median, c=\"orange\")\n",
    "    \n",
    "    legend_elements = [Line2D([0], [0], color='orange', lw=4, label='Median')]\n",
    "    p.legend(handles=legend_elements)\n",
    "\n",
    "    #print(dir(p))\n",
    "    p.figure.savefig(file_name, dpi=200)\n",
    "    p.cla()\n",
    "    return file_name\n",
    "\n",
    "def plot_inflated_sales_prices_animation(df, inflated = True):\n",
    "    frame_names = []\n",
    "    images = []\n",
    "    curr_base_year = 1975\n",
    "    last_base_year = 2018\n",
    "    while(curr_base_year <= last_base_year):\n",
    "        end_year = curr_base_year + 2\n",
    "        frame_names.append(plot_inflated_sales_prices(df, curr_base_year, end_year, inflated))\n",
    "        curr_base_year += 1\n",
    "\n",
    "    for frame_filename in frame_names:\n",
    "        images.append(imageio.imread(frame_filename))\n",
    "        images.append(imageio.imread(frame_filename))\n",
    "        images.append(imageio.imread(frame_filename))\n",
    "    if(inflated):\n",
    "        imageio.mimsave('home_sales_inflated_7year.gif', images)\n",
    "    else:\n",
    "        imageio.mimsave('home_sales_7year.gif', images)\n",
    "\n",
    "\n",
    "#plot_inflated_sales_prices_animation(fam_sales, True)\n",
    "fam_sales_g0 = fam_sales[fam_sales[\"Price_Time_Adjusted\"] > 0]\n",
    "plot_inflated_sales_prices_animation(fam_sales_g0, True)"
   ]
  },
  {
   "cell_type": "code",
   "execution_count": 9,
   "metadata": {},
   "outputs": [
    {
     "output_type": "execute_result",
     "data": {
      "text/plain": [
       "118601.27722772278"
      ]
     },
     "metadata": {},
     "execution_count": 9
    }
   ],
   "source": [
    "np.mean(year_sales[\"Median_Price_Inflated\"])"
   ]
  },
  {
   "cell_type": "code",
   "execution_count": null,
   "metadata": {},
   "outputs": [],
   "source": []
  }
 ]
}