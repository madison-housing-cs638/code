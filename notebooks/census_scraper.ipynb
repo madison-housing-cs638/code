{
 "metadata": {
  "language_info": {
   "codemirror_mode": {
    "name": "ipython",
    "version": 3
   },
   "file_extension": ".py",
   "mimetype": "text/x-python",
   "name": "python",
   "nbconvert_exporter": "python",
   "pygments_lexer": "ipython3",
   "version": "3.8.2-final"
  },
  "orig_nbformat": 2,
  "kernelspec": {
   "name": "Python 3.8.2 64-bit ('housing': conda)",
   "display_name": "Python 3.8.2 64-bit ('housing': conda)",
   "metadata": {
    "interpreter": {
     "hash": "25fcd188946dac88c9eb1e405eda02affa4aeb7fb16dc0201f675caa1355facd"
    }
   }
  }
 },
 "nbformat": 4,
 "nbformat_minor": 2,
 "cells": [
  {
   "cell_type": "code",
   "execution_count": 2,
   "metadata": {},
   "outputs": [],
   "source": [
    "from requests import request\n",
    "import json\n",
    "import pandas as pd"
   ]
  },
  {
   "cell_type": "code",
   "execution_count": 35,
   "metadata": {
    "tags": []
   },
   "outputs": [
    {
     "output_type": "stream",
     "name": "stdout",
     "text": [
      "74000\n",
      "74499\n",
      "74998\n",
      "75497\n",
      "75996\n",
      "76495\n",
      "76994\n",
      "77493\n",
      "77992\n",
      "78491\n",
      "78990\n",
      "79489\n"
     ]
    }
   ],
   "source": [
    "dir(requests)\n",
    "def cencus_url(start, num):\n",
    "    return f\"https://maps.cityofmadison.com/arcgis/rest/services/Public/OPEN_DATA/MapServer/7/query?outFields=Parcel%2C+CensusTract&returnGeometry=false&resultOffset={start}&resultRecordCount={num}&f=json&where=1%3D1&inSR=4326&geometry=%7B%22spatialReference%22%3A%7B%22latestWkid%22%3A3857%2C%22wkid%22%3A102100%7D%2C%22xmin%22%3A-9987022.959566876%2C%22ymin%22%3A5312542.514489478%2C%22xmax%22%3A-9917235.952742483%2C%22ymax%22%3A5339295.474389301%7D&geometryType=esriGeometryEnvelope&spatialRel=esriSpatialRelIntersects\"\n",
    "\n",
    "def census_request(start, num):\n",
    "    url = cencus_url(start, num)\n",
    "    request_json = request(\"get\", url).json()\n",
    "    return [feature[\"attributes\"] for feature in request_json[\"features\"]]\n",
    "\n",
    "def merge_dict(d1, d2):\n",
    "    result = {}\n",
    "    for key1, val1 in enumerate(d1):\n",
    "        result[key1] = val1\n",
    "\n",
    "    for key2, val2 in enumerate(d2):\n",
    "        result[key2] = val2\n",
    "\n",
    "    return result\n",
    "\n",
    "#parcel_tracts = {}\n",
    "step = 500\n",
    "limit = 79500\n",
    "for i in range(74000, limit, step-1):\n",
    "    responces = census_request(i, step)\n",
    "    for r in responces:\n",
    "        parcel = r[\"Parcel\"]\n",
    "        tract = r[\"CensusTract\"]\n",
    "        parcel_tracts[parcel] = tract\n",
    "    print(i)\n"
   ]
  },
  {
   "cell_type": "code",
   "execution_count": 7,
   "metadata": {
    "tags": []
   },
   "outputs": [],
   "source": [
    "census = pd.read_csv(\"parcel_tracts.csv\")\n",
    "census[\"CensusTract\"].value_counts().to_csv(\"ope.csv\")"
   ]
  },
  {
   "cell_type": "code",
   "execution_count": null,
   "metadata": {},
   "outputs": [],
   "source": []
  }
 ]
}